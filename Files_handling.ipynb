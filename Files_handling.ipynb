{
  "nbformat": 4,
  "nbformat_minor": 0,
  "metadata": {
    "colab": {
      "provenance": [],
      "authorship_tag": "ABX9TyP/PFq6TiCmimqjt8ph6RDw",
      "include_colab_link": true
    },
    "kernelspec": {
      "name": "python3",
      "display_name": "Python 3"
    },
    "language_info": {
      "name": "python"
    }
  },
  "cells": [
    {
      "cell_type": "markdown",
      "metadata": {
        "id": "view-in-github",
        "colab_type": "text"
      },
      "source": [
        "<a href=\"https://colab.research.google.com/github/satishkumar32/assignment/blob/main/Files_handling.ipynb\" target=\"_parent\"><img src=\"https://colab.research.google.com/assets/colab-badge.svg\" alt=\"Open In Colab\"/></a>"
      ]
    },
    {
      "cell_type": "code",
      "execution_count": null,
      "metadata": {
        "id": "oww-R1L_GC3L"
      },
      "outputs": [],
      "source": [
        "#Write a code to read the contents of a file in Python\n",
        "\n",
        "with open (read.txt, \"r\") as f:\n",
        "    f.read()"
      ]
    },
    {
      "cell_type": "code",
      "source": [
        "# Write a code to write to a file in Python\n",
        "\n",
        "with open (read.txt, \"w\") as f:\n",
        "    f.write(\"pwskills\")"
      ],
      "metadata": {
        "id": "1NAjZ93dvYzg"
      },
      "execution_count": null,
      "outputs": []
    },
    {
      "cell_type": "code",
      "source": [
        "#Write a code to append to a file in Python\n",
        "\n",
        "with open (read.txt, \"a\") as f:\n",
        "    f.write(\"pwskills\")"
      ],
      "metadata": {
        "id": "AxGdHDhWvuLY"
      },
      "execution_count": null,
      "outputs": []
    },
    {
      "cell_type": "code",
      "source": [
        "#Write a code to read a binary file in Python\n",
        "\n",
        "with open (read.txt, \"rb\") as f:\n",
        "    f.read()"
      ],
      "metadata": {
        "id": "MBESiMC5vzAp"
      },
      "execution_count": null,
      "outputs": []
    },
    {
      "cell_type": "code",
      "source": [
        "#What happens if we don't use `with` keyword with `open` in python\n",
        "\n",
        "If we dont use the with keyword then it should need to bo open and close the file manually if it was not close properly then it lead to data loss"
      ],
      "metadata": {
        "id": "frKe_9-dv5c_"
      },
      "execution_count": null,
      "outputs": []
    },
    {
      "cell_type": "code",
      "source": [
        "#Explain the concept of buffering in file handling and how it helps in improving read and write operations\n",
        "\n",
        "Buffering in file handling refers to the temporary storage of data in memory while it is being transferred between a program and a file and this temporary storage is called a buffer Buffering helps in improve the performance of read and write operations by reducing the number of system calls"
      ],
      "metadata": {
        "id": "hoFBA5J4wvqv"
      },
      "execution_count": null,
      "outputs": []
    },
    {
      "cell_type": "code",
      "source": [
        "# Describe the steps involved in implementing buffered file handling in a programming language of your choice\n",
        "Open the File with Buffering then do Perform like Read/Write Operations on that file then finally Close the File"
      ],
      "metadata": {
        "id": "oKbOT2uqxYk3"
      },
      "execution_count": null,
      "outputs": []
    },
    {
      "cell_type": "code",
      "source": [
        "#Write a Python function to read a text file using buffered reading and return its contents\n",
        "\n",
        "with open('read.txt', 'r', buffered=1) as file:\n",
        "    file.read()"
      ],
      "metadata": {
        "id": "I7iN9lTzzQHM"
      },
      "execution_count": null,
      "outputs": []
    },
    {
      "cell_type": "code",
      "source": [
        "#What are the advantages of using buffered reading over direct file reading in Python\n",
        "\n",
        "Buffered reading is faster than direct reading and also performance, efficiency, and reliability of file reading operations will be improved"
      ],
      "metadata": {
        "id": "mCe3Bu6IzukU"
      },
      "execution_count": null,
      "outputs": []
    },
    {
      "cell_type": "code",
      "source": [
        "#Write a Python code snippet to append content to a file using buffered writing\n",
        "\n",
        "with open (read.txt, 'a', buffered=1) as f:\n",
        "    f.write(\"pwskills\")"
      ],
      "metadata": {
        "id": "GGWYANRE0MBL"
      },
      "execution_count": null,
      "outputs": []
    },
    {
      "cell_type": "code",
      "source": [
        "#Write a Python function that demonstrates the use of close() method on a file\n",
        "\n",
        "file = open('read.txt', 'r')\n",
        "file.close()"
      ],
      "metadata": {
        "id": "7DSf5Yjw9_DX"
      },
      "execution_count": null,
      "outputs": []
    },
    {
      "cell_type": "code",
      "source": [
        "#Create a Python function to showcase the detach() method on a file object\n",
        "\n",
        "file = open('read.txt', 'r')\n",
        "file.detach()"
      ],
      "metadata": {
        "id": "D21GqunO-DHn"
      },
      "execution_count": null,
      "outputs": []
    },
    {
      "cell_type": "code",
      "source": [
        "#Write a Python function to demonstrate the use of the seek() method to change the file position\n",
        "\n",
        "file = open('read.txt', 'r')\n",
        "file.seek(10)\n",
        "file.read()\n",
        "file.close()"
      ],
      "metadata": {
        "id": "RTAOHbTG-pB2"
      },
      "execution_count": null,
      "outputs": []
    },
    {
      "cell_type": "code",
      "source": [
        "# Create a Python function to return the file descriptor (integer number) of a file using the fileno() method\n",
        "\n",
        "file = open('example.txt', 'r')\n",
        "fd = file.fileno()\n",
        "print(fd)\n",
        "file.close()"
      ],
      "metadata": {
        "id": "vdau1sA8BGKz"
      },
      "execution_count": null,
      "outputs": []
    },
    {
      "cell_type": "code",
      "source": [
        "#Write a Python function to return the current position of the file's object using the tell() method\n",
        "\n",
        "file = open('read.txt', 'r')\n",
        "file.read()\n",
        "file.tell()\n",
        "file.close()"
      ],
      "metadata": {
        "id": "KXIKTvu_EtEX"
      },
      "execution_count": null,
      "outputs": []
    },
    {
      "cell_type": "code",
      "source": [
        "#Create a Python program that logs a message to a file using the logging module\n",
        "\n",
        "import logging\n",
        "\n",
        "logging.basicConfig(filename='example.log', level=logging.DEBUG, format='%(message)s')\n",
        "\n",
        "logging.shutdown()"
      ],
      "metadata": {
        "id": "47r-MFajHkfs"
      },
      "execution_count": null,
      "outputs": []
    },
    {
      "cell_type": "code",
      "source": [
        "#Explain the importance of logging levels in Python's logging module\n",
        "\n",
        "logging.debug() #it will give the debug msg what we mention\n",
        "logging.info()  #it will gives some information\n",
        "logging.warning() #it will gives the potential isses\n",
        "logging.error() #serious problem\n",
        "logging.critical() #program will break"
      ],
      "metadata": {
        "id": "TfsQ8A7dILN7"
      },
      "execution_count": null,
      "outputs": []
    },
    {
      "cell_type": "code",
      "source": [
        "#Create a Python program that uses the debugger to find the value of a variable inside a loop\n",
        "\n",
        "logging.basicConfig(filename='example.log', level=logging.DEBUG, format='%(message)s')\n",
        "for i in range(10):\n",
        "    logging.DEBUG(f\"i is {i}\")\n",
        "logging.shutdown()"
      ],
      "metadata": {
        "id": "g0B-SEyAJgA6"
      },
      "execution_count": null,
      "outputs": []
    },
    {
      "cell_type": "code",
      "source": [
        "#Create a Python program that demonstrates setting breakpoints and inspecting variables using the debugger\n",
        "\n",
        "import pdb\n",
        "\n",
        "logging.basicConfig(filename='example.log', level=logging.DEBUG, format='%(message)s')\n",
        "\n",
        "for i in range(10):\n",
        "    pdb.set_trace()\n",
        "    logging.debug(f\"i is {i}\")\n",
        "\n",
        "logging.shutdown()"
      ],
      "metadata": {
        "id": "Zx1Up16lPRoa"
      },
      "execution_count": null,
      "outputs": []
    },
    {
      "cell_type": "code",
      "source": [
        "#Create a Python program that uses the debugger to trace a recursive function\n",
        "\n",
        "logging.basicConfig(filename='example.log', level=logging.DEBUG, format='%(message)s')\n",
        "\n",
        "def factorial(n):\n",
        "    if n == 1:\n",
        "        pdb.set_trace()\n",
        "        logging.debug(n)\n",
        "        return 1\n",
        "    else:\n",
        "        i = n * factorial(n - 1)\n",
        "        pdb.set_trace()\n",
        "        logging.debug(i)\n",
        "\n",
        "factorial(5)"
      ],
      "metadata": {
        "id": "FGete1vWQPIh"
      },
      "execution_count": null,
      "outputs": []
    },
    {
      "cell_type": "code",
      "source": [
        "#Write a try-except block to handle a ZeroDivisionError\n",
        "try:\n",
        "    result = 1 / 0\n",
        "except ZeroDivisionError:\n",
        "    print(\"Error: Division by zero!\")"
      ],
      "metadata": {
        "id": "39xcBSjORPgA"
      },
      "execution_count": null,
      "outputs": []
    },
    {
      "cell_type": "code",
      "source": [
        "#How does the else block work with try-except\n",
        "\n",
        "In a try-except block the else block executes if no exception occurs in the try block"
      ],
      "metadata": {
        "id": "jK9uE_5XRrmv"
      },
      "execution_count": null,
      "outputs": []
    },
    {
      "cell_type": "code",
      "source": [
        "#Implement a try-except-else block to open and read a file\n",
        "\n",
        "try:\n",
        "    with open('read.txt', 'r') as file:\n",
        "        file.read()\n",
        "except FileNotFoundError:\n",
        "    print(\"File not found\")\n",
        "else:\n",
        "    with open('read.txt', 'w') as file:\n",
        "        file.write(\"pwskills\")"
      ],
      "metadata": {
        "id": "WrK99S3O_VcJ"
      },
      "execution_count": null,
      "outputs": []
    },
    {
      "cell_type": "code",
      "source": [
        "#What is the purpose of the finally block in exception handling\n",
        "\n",
        "In a try-except block the finally block executes whether an exception occurs or not it will always execute"
      ],
      "metadata": {
        "id": "gb8h0ch2BCnf"
      },
      "execution_count": null,
      "outputs": []
    },
    {
      "cell_type": "code",
      "source": [
        "#Write a try-except-finally block to handle a ValueError.\n",
        "\n",
        "try:\n",
        "    value = int(input(\"Enter a number: \"))\n",
        "except ValueError:\n",
        "    print(\"Invalid input. Please enter a valid number.\")\n",
        "finally:\n",
        "    print(\"Thank you for using the program.\")"
      ],
      "metadata": {
        "id": "VoeOcQDPBOdf"
      },
      "execution_count": null,
      "outputs": []
    },
    {
      "cell_type": "code",
      "source": [
        "#How multiple except blocks work in Python\n",
        "\n",
        "Multiple except blocks can be used to handle different types of exceptions in a single try-except block"
      ],
      "metadata": {
        "id": "N2ZxEMsnBXlv"
      },
      "execution_count": null,
      "outputs": []
    },
    {
      "cell_type": "code",
      "source": [
        "#What is a custom exception in Python\n",
        "\n",
        "we can custom the exceptions so that only that error will be raised which are meaningful and specific to our block"
      ],
      "metadata": {
        "id": "CrNpxBr3BdwP"
      },
      "execution_count": null,
      "outputs": []
    },
    {
      "cell_type": "code",
      "source": [
        "#Create a custom exception class with a message\n",
        "\n",
        "try:\n",
        "    with open('read.txt', 'r') as file:\n",
        "        file.read()\n",
        "except FileNotFoundError:\n",
        "    print(\"File not found\")\n",
        "else:\n",
        "    with open('read.txt', 'w') as file:\n",
        "        file.write(\"pwskills\")"
      ],
      "metadata": {
        "id": "OKgFtmRhCp29"
      },
      "execution_count": null,
      "outputs": []
    },
    {
      "cell_type": "code",
      "source": [
        "#Write a code to raise a custom exception in Python\n",
        "\n",
        "class MyException(Exception):\n",
        "    pass\n",
        "\n",
        "try:\n",
        "    n = 1\n",
        "    if n == 1:\n",
        "        raise MyException(\"This is a custom exception message\")\n",
        "except MyException as e:\n",
        "    print(e)\n"
      ],
      "metadata": {
        "colab": {
          "base_uri": "https://localhost:8080/"
        },
        "id": "mX_d6ZInCxO0",
        "outputId": "bc680bac-812b-4b0c-f289-d7a80614f0b3"
      },
      "execution_count": 14,
      "outputs": [
        {
          "output_type": "stream",
          "name": "stdout",
          "text": [
            "This is a custom exception message\n"
          ]
        }
      ]
    },
    {
      "cell_type": "code",
      "source": [
        "#Write a function that raises a custom exception when a value is negative\n",
        "\n",
        "class CustomError(Exception):\n",
        "    pass\n",
        "\n",
        "def check_value(value):\n",
        "    if value < 0:\n",
        "        raise CustomError(\"Value cannot be negative!\")\n",
        "\n",
        "try:\n",
        "    check_value(-10)\n",
        "except CustomError as e:\n",
        "    print(e)"
      ],
      "metadata": {
        "id": "wRY2lWtXK_QS"
      },
      "execution_count": null,
      "outputs": []
    },
    {
      "cell_type": "code",
      "source": [
        "#What is the role of try, except, else, and finally in handling exceptions\n",
        "\n",
        "The try block contains the code that will check if there is any error it might raise exceptions, except handles specified exceptions if they occur else runs if no exceptions were raised, and finally executes whether an exception occurs or not it will always execute"
      ],
      "metadata": {
        "id": "LTkJ5amUMjnZ"
      },
      "execution_count": null,
      "outputs": []
    },
    {
      "cell_type": "code",
      "source": [
        "#How can custom exceptions improve code readability and maintainability\n",
        "\n",
        "Custom exceptions improve code readability and maintainability by clearly defining specific error conditions relevant to the code so that it can understand that particular error occurred and handle it accordingly"
      ],
      "metadata": {
        "id": "48DiIydEM_Aq"
      },
      "execution_count": null,
      "outputs": []
    },
    {
      "cell_type": "code",
      "source": [
        "# What is multithreading?\n",
        "\n",
        "Multithreading is the concurrent execution of multiple threads within a single process"
      ],
      "metadata": {
        "id": "NkMrMTLSNktx"
      },
      "execution_count": null,
      "outputs": []
    },
    {
      "cell_type": "code",
      "source": [
        "#Create a thread in Python\n",
        "\n",
        "import threading\n",
        "\n",
        "def my_function():\n",
        "    print(\"Thread is executing\")\n",
        "\n",
        "my_thread = threading.Thread(target=my_function)\n",
        "\n",
        "my_thread.start()"
      ],
      "metadata": {
        "colab": {
          "base_uri": "https://localhost:8080/"
        },
        "id": "ak-VrpfJOTiP",
        "outputId": "c8994d55-c5f5-405b-ed68-48c070849afe"
      },
      "execution_count": 34,
      "outputs": [
        {
          "output_type": "stream",
          "name": "stdout",
          "text": [
            "Thread is executing\n"
          ]
        }
      ]
    },
    {
      "cell_type": "code",
      "source": [
        "# What is the Global Interpreter Lock (GIL) in Python\n",
        "\n",
        "The Global Interpreter Lock (GIL) in Python ensures that only one thread executes  at a time limiting multithreading performance for CPU-bound tasks"
      ],
      "metadata": {
        "id": "fBfWmkgIPGkz"
      },
      "execution_count": null,
      "outputs": []
    },
    {
      "cell_type": "code",
      "source": [
        "#Implement a simple multithreading example in Python\n",
        "\n",
        "import time\n",
        "import threading\n",
        "\n",
        "def test():\n",
        "    start = time.perf_counter()\n",
        "    for i in range(10000000):\n",
        "        pass\n",
        "    end = time.perf_counter()\n",
        "    print(f\"Time taken by thread: {end - start}\")\n",
        "\n",
        "t1 = threading.Thread(target=test)\n",
        "t2 = threading.Thread(target=test)\n",
        "\n",
        "t1.start()\n",
        "t2.start()\n",
        "\n",
        "t1.join()\n",
        "t2.join()"
      ],
      "metadata": {
        "colab": {
          "base_uri": "https://localhost:8080/"
        },
        "id": "ey3kmC6vVag4",
        "outputId": "66064b6b-115e-4e88-b499-5ffc5e10e2b0"
      },
      "execution_count": 33,
      "outputs": [
        {
          "output_type": "stream",
          "name": "stdout",
          "text": [
            "Time taken by thread: 0.2579612650006311\n"
          ]
        }
      ]
    },
    {
      "cell_type": "code",
      "source": [
        "#What is the purpose of the `join()` method in threading\n",
        "\n",
        "The join() method in threading is used to wait for a thread to complete its execution before proceeding with the rest of the program"
      ],
      "metadata": {
        "id": "4SgifcBkVhAj"
      },
      "execution_count": null,
      "outputs": []
    },
    {
      "cell_type": "code",
      "source": [
        "#Describe a scenario where multithreading would be beneficial in Python\n",
        "\n",
        "multithreading can improve the performance  of your Python applications by utilizing available system resources more efficiently and allowing tasks to run concurrently."
      ],
      "metadata": {
        "id": "PmvVnsEp-yol"
      },
      "execution_count": null,
      "outputs": []
    },
    {
      "cell_type": "code",
      "source": [
        "#What is multiprocessing in Python\n",
        "\n",
        "Multiprocessing is the concurrent execution which allows the parallel utilization of multiple CPU cores."
      ],
      "metadata": {
        "id": "iB3-rrP5_EzL"
      },
      "execution_count": null,
      "outputs": []
    },
    {
      "cell_type": "code",
      "source": [
        "#How is multiprocessing different from multithreading in Python\n",
        "\n",
        "Multiprocessing in Python involves running multiple processes concurrently, each with its own memory space, enabling true parallelism across multiple CPU cores, while multithreading involves running multiple threads within a single process, sharing the same memory space and resources, often limited by the Global Interpreter Lock (GIL)."
      ],
      "metadata": {
        "id": "Bbu5wk8o_wKy"
      },
      "execution_count": null,
      "outputs": []
    },
    {
      "cell_type": "code",
      "source": [
        "#Create a process using the multiprocessing module in Python\n",
        "\n",
        "import multiprocessing\n",
        "import time\n",
        "\n",
        "def test():\n",
        "    start = time.perf_counter()\n",
        "    for i in range(10000000):\n",
        "        pass\n",
        "    end = time.perf_counter()\n",
        "    print(f\"Time taken by process: {end - start}\")\n",
        "\n",
        "process = multiprocessing.Process(target=test)\n",
        "\n",
        "process.start()\n",
        "\n",
        "process.join()"
      ],
      "metadata": {
        "colab": {
          "base_uri": "https://localhost:8080/"
        },
        "id": "pAjDDc62_-8b",
        "outputId": "5ff68911-e9d2-4228-d47b-f617c74d9686"
      },
      "execution_count": 2,
      "outputs": [
        {
          "output_type": "stream",
          "name": "stdout",
          "text": [
            "Time taken by thread: 0.2609577380000019\n"
          ]
        }
      ]
    },
    {
      "cell_type": "code",
      "source": [
        "#Explain the concept of Pool in the multiprocessing module\n",
        "\n",
        "A Pool in the multiprocessing module manages a group of worker processes to execute tasks concurrently, simplifying parallel processing in Python."
      ],
      "metadata": {
        "id": "NyesOPydAslX"
      },
      "execution_count": null,
      "outputs": []
    },
    {
      "cell_type": "code",
      "source": [
        "#Explain inter-process communication in multiprocessing.\n",
        "\n",
        "Inter-process communication (IPC) in multiprocessing facilitates data exchange and synchronization between multiple processes, enabling coordination and collaboration in parallel computing."
      ],
      "metadata": {
        "id": "peG3KwlYBRXw"
      },
      "execution_count": null,
      "outputs": []
    }
  ]
}