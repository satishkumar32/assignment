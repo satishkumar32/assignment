{
  "nbformat": 4,
  "nbformat_minor": 0,
  "metadata": {
    "colab": {
      "provenance": [],
      "authorship_tag": "ABX9TyNnMwOD1uyCgxvkEKazi/pe",
      "include_colab_link": true
    },
    "kernelspec": {
      "name": "python3",
      "display_name": "Python 3"
    },
    "language_info": {
      "name": "python"
    }
  },
  "cells": [
    {
      "cell_type": "markdown",
      "metadata": {
        "id": "view-in-github",
        "colab_type": "text"
      },
      "source": [
        "<a href=\"https://colab.research.google.com/github/satishkumar32/assignment/blob/main/NumPy.ipynb\" target=\"_parent\"><img src=\"https://colab.research.google.com/assets/colab-badge.svg\" alt=\"Open In Colab\"/></a>"
      ]
    },
    {
      "cell_type": "code",
      "execution_count": 12,
      "metadata": {
        "colab": {
          "base_uri": "https://localhost:8080/"
        },
        "id": "bFNfJVtcfMZs",
        "outputId": "0edc647e-fcf8-4049-91ac-b31a40096425"
      },
      "outputs": [
        {
          "output_type": "stream",
          "name": "stdout",
          "text": [
            "int64\n"
          ]
        }
      ],
      "source": [
        "# Create a NumPy array 'arr' of integers from 0 to 5 and print its data type.\n",
        "\n",
        "import numpy as np\n",
        "arr = np.arange(0, 6)\n",
        "print(arr.dtype)"
      ]
    },
    {
      "cell_type": "code",
      "source": [
        "#Given a NumPy array 'arr', check if its data type is float64.\n",
        "\n",
        "arr = np.array([1.5, 2.6, 3.7])\n",
        "print(arr.dtype == np.float64)"
      ],
      "metadata": {
        "colab": {
          "base_uri": "https://localhost:8080/"
        },
        "id": "k_BrOqoxfVgS",
        "outputId": "30d05cf2-06b6-4151-a128-3fb4e7fef22d"
      },
      "execution_count": null,
      "outputs": [
        {
          "output_type": "stream",
          "name": "stdout",
          "text": [
            "True\n"
          ]
        }
      ]
    },
    {
      "cell_type": "code",
      "source": [
        "# Create a NumPy array 'arr' with a data type of complex128 containing three complex numbers.\n",
        "\n",
        "arr = np.array([1.5, 5+6j, 2])\n",
        "print(arr.dtype)"
      ],
      "metadata": {
        "colab": {
          "base_uri": "https://localhost:8080/"
        },
        "id": "W9EqjGF6fvdI",
        "outputId": "835c1271-a9ce-4eff-d3a8-f24e76de9ebe"
      },
      "execution_count": null,
      "outputs": [
        {
          "output_type": "stream",
          "name": "stdout",
          "text": [
            "complex128\n"
          ]
        }
      ]
    },
    {
      "cell_type": "code",
      "source": [
        "#Convert an existing NumPy array 'arr' of integers to float32 data type.\n",
        "\n",
        "arr = np.array([1.5, 2.6, 3.7])\n",
        "arr = arr.astype(np.float32)\n",
        "print(arr.dtype)"
      ],
      "metadata": {
        "colab": {
          "base_uri": "https://localhost:8080/"
        },
        "id": "R6PKbAgmgCW5",
        "outputId": "77d183a4-c798-45b6-f6a2-5f7c531d2fdf"
      },
      "execution_count": null,
      "outputs": [
        {
          "output_type": "stream",
          "name": "stdout",
          "text": [
            "float32\n"
          ]
        }
      ]
    },
    {
      "cell_type": "code",
      "source": [
        "#Given a NumPy array 'arr' with float64 data type, convert it to float32 to reduce decimal precision.\n",
        "\n",
        "arr = np.array([1.5, 2.6, 3.7])\n",
        "print(arr.dtype)\n",
        "arr = arr.astype(np.float32)\n",
        "print(arr.dtype)"
      ],
      "metadata": {
        "colab": {
          "base_uri": "https://localhost:8080/"
        },
        "id": "Rpe0SYIbgTpz",
        "outputId": "5660193a-8127-45c9-8d97-032e05db1fdb"
      },
      "execution_count": null,
      "outputs": [
        {
          "output_type": "stream",
          "name": "stdout",
          "text": [
            "float64\n",
            "float32\n"
          ]
        }
      ]
    },
    {
      "cell_type": "code",
      "source": [
        "#Write a function array_attributes that takes a NumPy array as input and returns its shape, size, and data type\n",
        "\n",
        "def array_attributes(arr):\n",
        "    shape = arr.shape\n",
        "    size = arr.size\n",
        "    dtype = arr.dtype\n",
        "    result = f\"shape {shape}, size {size}, dtype {dtype}\"\n",
        "    return result\n",
        "\n",
        "s = np.array([1,2,3,4,5])\n",
        "array_attributes(s)"
      ],
      "metadata": {
        "colab": {
          "base_uri": "https://localhost:8080/",
          "height": 35
        },
        "id": "LHl-qyRUgs6I",
        "outputId": "4c196e76-3f8b-4c74-c43b-9d735a99ea09"
      },
      "execution_count": null,
      "outputs": [
        {
          "output_type": "execute_result",
          "data": {
            "text/plain": [
              "'shape (5,), size 5, dtype int64'"
            ],
            "application/vnd.google.colaboratory.intrinsic+json": {
              "type": "string"
            }
          },
          "metadata": {},
          "execution_count": 18
        }
      ]
    },
    {
      "cell_type": "code",
      "source": [
        "#Create a function array_dimension that takes a NumPy array as input and returns its dimensionality.\n",
        "\n",
        "def array_dimension(arr):\n",
        "  dims = arr.ndim\n",
        "  result = f\"{dims} dimensionality\"\n",
        "  return result\n",
        "\n",
        "s = np.array([1,2,3,4,5])\n",
        "array_dimension(s)"
      ],
      "metadata": {
        "colab": {
          "base_uri": "https://localhost:8080/",
          "height": 35
        },
        "id": "9ppfXWbThMTJ",
        "outputId": "84b85bbe-007b-408e-e105-e3d20faf6822"
      },
      "execution_count": null,
      "outputs": [
        {
          "output_type": "execute_result",
          "data": {
            "text/plain": [
              "'1 dimensionality'"
            ],
            "application/vnd.google.colaboratory.intrinsic+json": {
              "type": "string"
            }
          },
          "metadata": {},
          "execution_count": 21
        }
      ]
    },
    {
      "cell_type": "code",
      "source": [
        "# Design a function item_size_info that takes a NumPy array as input and returns the item size and the total size in bytes\n",
        "\n",
        "def item_size_info(arr):\n",
        "  item_size = arr.itemsize\n",
        "  total_size = arr.nbytes\n",
        "  result = f\"item size {item_size}, total size {total_size}\"\n",
        "  return result\n",
        "\n",
        "s = np.array([1,2,3,4,5])\n",
        "item_size_info(s)"
      ],
      "metadata": {
        "colab": {
          "base_uri": "https://localhost:8080/",
          "height": 35
        },
        "id": "Snqu36gZhyao",
        "outputId": "f7074de8-977d-4fc9-db40-3905958c0420"
      },
      "execution_count": null,
      "outputs": [
        {
          "output_type": "execute_result",
          "data": {
            "text/plain": [
              "'item size 8, total size 40'"
            ],
            "application/vnd.google.colaboratory.intrinsic+json": {
              "type": "string"
            }
          },
          "metadata": {},
          "execution_count": 29
        }
      ]
    },
    {
      "cell_type": "code",
      "source": [
        "#Create a function array_strides that takes a NumPy array as input and returns the strides of the array.\n",
        "\n",
        "def array_strides(arr):\n",
        "  stride = arr.strides\n",
        "  result = f\"strides {stride}\"\n",
        "  return result\n",
        "\n",
        "s = np.array([1,2,3,4,5])\n",
        "array_strides(s)"
      ],
      "metadata": {
        "colab": {
          "base_uri": "https://localhost:8080/",
          "height": 35
        },
        "id": "ReZlAAsKiMa_",
        "outputId": "05e9dc31-cd2a-4e4e-8b5f-82df0cf4bc4e"
      },
      "execution_count": null,
      "outputs": [
        {
          "output_type": "execute_result",
          "data": {
            "text/plain": [
              "'strides (8,)'"
            ],
            "application/vnd.google.colaboratory.intrinsic+json": {
              "type": "string"
            }
          },
          "metadata": {},
          "execution_count": 30
        }
      ]
    },
    {
      "cell_type": "code",
      "source": [
        "#Design a function shape_stride_relationship that takes a NumPy array as input and returns the shape and strides of the array.\n",
        "\n",
        "def shape_stride_relationship(arr):\n",
        "  shape = arr.shape\n",
        "  strides = arr.strides\n",
        "  result = f\"shape {shape}, strides {strides}\"\n",
        "  return result\n",
        "\n",
        "s = np.array([1,2,3,4,5])\n",
        "shape_stride_relationship(s)"
      ],
      "metadata": {
        "colab": {
          "base_uri": "https://localhost:8080/",
          "height": 35
        },
        "id": "lUbf4iLviz_3",
        "outputId": "0f073c94-0f7f-4897-d3a7-252dd8a3009b"
      },
      "execution_count": null,
      "outputs": [
        {
          "output_type": "execute_result",
          "data": {
            "text/plain": [
              "'shape (5,), strides (8,)'"
            ],
            "application/vnd.google.colaboratory.intrinsic+json": {
              "type": "string"
            }
          },
          "metadata": {},
          "execution_count": 31
        }
      ]
    },
    {
      "cell_type": "code",
      "source": [
        "#Create a function `create_zeros_array` that takes an integer `n` as input and returns a NumPy array of zeros with `n` elements.\n",
        "\n",
        "def create_zeros_array(arr):\n",
        "    return np.zeros(n)\n",
        "\n",
        "n = 5\n",
        "create_zeros_array(n)\n"
      ],
      "metadata": {
        "colab": {
          "base_uri": "https://localhost:8080/"
        },
        "id": "c6ZEp222oNnr",
        "outputId": "c87d9c9e-b1db-4977-ee2b-87ca79229f6f"
      },
      "execution_count": null,
      "outputs": [
        {
          "output_type": "execute_result",
          "data": {
            "text/plain": [
              "array([0., 0., 0., 0., 0.])"
            ]
          },
          "metadata": {},
          "execution_count": 39
        }
      ]
    },
    {
      "cell_type": "code",
      "source": [
        "#Write a function `create_ones_matrix` that takes integers `rows` and `cols` as inputs and generates a 2D NumPy array filled with ones of size `rows x cols`.\n",
        "\n",
        "def create_ones_matrix(arr1,arr2):\n",
        "    return np.ones((arr1,arr2))\n",
        "\n",
        "s1 = 3\n",
        "s2 = 5\n",
        "create_ones_matrix(s1,s2)"
      ],
      "metadata": {
        "colab": {
          "base_uri": "https://localhost:8080/"
        },
        "id": "Y4HX8DxYol4b",
        "outputId": "2a92898f-34d0-4ed9-8b30-31a66db84717"
      },
      "execution_count": null,
      "outputs": [
        {
          "output_type": "execute_result",
          "data": {
            "text/plain": [
              "array([[1., 1., 1., 1., 1.],\n",
              "       [1., 1., 1., 1., 1.],\n",
              "       [1., 1., 1., 1., 1.]])"
            ]
          },
          "metadata": {},
          "execution_count": 44
        }
      ]
    },
    {
      "cell_type": "code",
      "source": [
        "#Write a function `generate_range_array` that takes three integers start, stop, and step as arguments and creates a NumPy array with a range starting from `start`, ending at stop (exclusive), and with the specified `step`.\n",
        "\n",
        "def generate_range_array(srt, sop, stp):\n",
        "      ds = np.arange(srt, sop +1, stp)\n",
        "      return ds\n",
        "\n",
        "s1 = 2\n",
        "s2 = 10\n",
        "s3 = 2\n",
        "generate_range_array(s1,s2,s3)"
      ],
      "metadata": {
        "colab": {
          "base_uri": "https://localhost:8080/"
        },
        "id": "XFdTrwqIsgK5",
        "outputId": "1941b916-bcd3-4e6e-9405-d887c827ac3b"
      },
      "execution_count": null,
      "outputs": [
        {
          "output_type": "execute_result",
          "data": {
            "text/plain": [
              "array([ 2,  4,  6,  8, 10])"
            ]
          },
          "metadata": {},
          "execution_count": 47
        }
      ]
    },
    {
      "cell_type": "code",
      "source": [
        "#Design a function `generate_linear_space` that takes two floats `start`, `stop`, and an integer `num` as arguments and generates a NumPy array with num equally spaced values between `start` and `stop`\n",
        "\n",
        "def generate_linear_space(start, stop, num):\n",
        "    ds = np.linspace(start, stop, num)\n",
        "    return ds\n",
        "\n",
        "s1 = 2\n",
        "s2 = 5\n",
        "s3 = 10\n",
        "generate_linear_space(s1,s2,s3)"
      ],
      "metadata": {
        "colab": {
          "base_uri": "https://localhost:8080/"
        },
        "id": "lW_FcJwftXr4",
        "outputId": "9e42a129-c74d-469d-8f45-8089ddde77e4"
      },
      "execution_count": null,
      "outputs": [
        {
          "output_type": "execute_result",
          "data": {
            "text/plain": [
              "array([2.        , 2.33333333, 2.66666667, 3.        , 3.33333333,\n",
              "       3.66666667, 4.        , 4.33333333, 4.66666667, 5.        ])"
            ]
          },
          "metadata": {},
          "execution_count": 48
        }
      ]
    },
    {
      "cell_type": "code",
      "source": [
        "#. Create a function `create_identity_matrix` that takes an integer `n` as input and generates a square identity matrix of size `n x n` using `numpy.eye`.\n",
        "\n",
        "def create_identity_matrix(n):\n",
        "    ds= np.eye(n)\n",
        "    return ds\n",
        "\n",
        "n = 5\n",
        "create_identity_matrix(n)"
      ],
      "metadata": {
        "colab": {
          "base_uri": "https://localhost:8080/"
        },
        "id": "dH41GAf9t6de",
        "outputId": "51beaa49-d26f-4c9a-9990-47756a1f737c"
      },
      "execution_count": null,
      "outputs": [
        {
          "output_type": "execute_result",
          "data": {
            "text/plain": [
              "array([[1., 0., 0., 0., 0.],\n",
              "       [0., 1., 0., 0., 0.],\n",
              "       [0., 0., 1., 0., 0.],\n",
              "       [0., 0., 0., 1., 0.],\n",
              "       [0., 0., 0., 0., 1.]])"
            ]
          },
          "metadata": {},
          "execution_count": 50
        }
      ]
    },
    {
      "cell_type": "code",
      "source": [
        "#Write a function that takes a Python list and converts it into a NumPy array.\n",
        "\n",
        "def convs(ls):\n",
        "  ds = np.array(ls)\n",
        "  return ds\n",
        "\n",
        "ls = [1,2,3,4,5,6]\n",
        "convs(ls)"
      ],
      "metadata": {
        "colab": {
          "base_uri": "https://localhost:8080/"
        },
        "id": "NofsQWA8uJJQ",
        "outputId": "1706f15b-5dbe-4113-a4bb-46053c162e4f"
      },
      "execution_count": null,
      "outputs": [
        {
          "output_type": "execute_result",
          "data": {
            "text/plain": [
              "array([1, 2, 3, 4, 5, 6])"
            ]
          },
          "metadata": {},
          "execution_count": 51
        }
      ]
    },
    {
      "cell_type": "code",
      "source": [
        "#Create a NumPy array and demonstrate the use of `numpy.view` to create a new array object with the same data.\n",
        "\n",
        "s = np.array([1,2,3,4,5])\n",
        "s1 = s.view()\n",
        "s1"
      ],
      "metadata": {
        "colab": {
          "base_uri": "https://localhost:8080/"
        },
        "id": "EUG3P9hVuf7n",
        "outputId": "b776b3c0-5ca2-4182-e86d-cbdeda513172"
      },
      "execution_count": null,
      "outputs": [
        {
          "output_type": "execute_result",
          "data": {
            "text/plain": [
              "array([1, 2, 3, 4, 5])"
            ]
          },
          "metadata": {},
          "execution_count": 52
        }
      ]
    },
    {
      "cell_type": "code",
      "source": [
        "#Write a function that takes two NumPy arrays and concatenates them along a specified axis.\n",
        "\n",
        "def concatenate_arrays(arr1, arr2, axis):\n",
        "    ds = np.concatenate((arr1, arr2), axis)\n",
        "    return ds\n",
        "\n",
        "\n",
        "s1 = np.array([1,2,3,4,5])\n",
        "s2 = np.array([1,9,8,7,6])\n",
        "x_axs = 0\n",
        "concatenate_arrays(s1, s2, x_axs)"
      ],
      "metadata": {
        "colab": {
          "base_uri": "https://localhost:8080/"
        },
        "id": "jPvEaBIbvvUO",
        "outputId": "17a9118e-298c-4130-a26a-8e24fb40c521"
      },
      "execution_count": null,
      "outputs": [
        {
          "output_type": "execute_result",
          "data": {
            "text/plain": [
              "array([1, 2, 3, 4, 5, 1, 9, 8, 7, 6])"
            ]
          },
          "metadata": {},
          "execution_count": 56
        }
      ]
    },
    {
      "cell_type": "code",
      "source": [
        "#Create two NumPy arrays with different shapes and concatenate them horizontally using `numpy. concatenate`.\n",
        "\n",
        "def  concatenate_array(s1, s2, x_axs):\n",
        "    ds = np.concatenate((s1, s2), x_axs)\n",
        "    return ds\n",
        "\n",
        "s1 = np.array([1,2,3,4,5])\n",
        "s2 = np.array([1.5,9.6,8.4,7.6,6.0])\n",
        "x_axs = 0\n",
        "concatenate_array(s1, s2, x_axs)"
      ],
      "metadata": {
        "colab": {
          "base_uri": "https://localhost:8080/"
        },
        "id": "707eA7jgwYXe",
        "outputId": "e95553b5-037e-4f13-c559-ab2bf568c650"
      },
      "execution_count": null,
      "outputs": [
        {
          "output_type": "execute_result",
          "data": {
            "text/plain": [
              "array([1. , 2. , 3. , 4. , 5. , 1.5, 9.6, 8.4, 7.6, 6. ])"
            ]
          },
          "metadata": {},
          "execution_count": 58
        }
      ]
    },
    {
      "cell_type": "code",
      "source": [
        "# Write a function that vertically stacks multiple NumPy arrays given as a list.\n",
        "\n",
        "def vertically(arr):\n",
        "  ds = np.vstack(arr)\n",
        "  return ds\n",
        "\n",
        "s = np.array([1,2,3,4,5])\n",
        "vertically(s)"
      ],
      "metadata": {
        "colab": {
          "base_uri": "https://localhost:8080/"
        },
        "id": "K216-Hl_xaU2",
        "outputId": "186d3265-dad8-400a-9cd6-25669d07de53"
      },
      "execution_count": null,
      "outputs": [
        {
          "output_type": "execute_result",
          "data": {
            "text/plain": [
              "array([[1],\n",
              "       [2],\n",
              "       [3],\n",
              "       [4],\n",
              "       [5]])"
            ]
          },
          "metadata": {},
          "execution_count": 59
        }
      ]
    },
    {
      "cell_type": "code",
      "source": [
        "#Write a Python function using NumPy to create an array of integers within a specified range (inclusive) with a given step size.\n",
        "\n",
        "def create_array(start, stop, step):\n",
        "    ds = np.arange(start, stop + 1, step)\n",
        "    return ds\n",
        "\n",
        "s1 = 2\n",
        "s2 = 10\n",
        "s3 = 2\n",
        "create_array(s1,s2,s3)"
      ],
      "metadata": {
        "id": "v-TBIMJryApV",
        "colab": {
          "base_uri": "https://localhost:8080/"
        },
        "outputId": "2d317791-e71e-40ac-8a88-2464b0153833"
      },
      "execution_count": null,
      "outputs": [
        {
          "output_type": "execute_result",
          "data": {
            "text/plain": [
              "array([ 2,  4,  6,  8, 10])"
            ]
          },
          "metadata": {},
          "execution_count": 4
        }
      ]
    },
    {
      "cell_type": "code",
      "source": [
        "#Write a Python function using NumPy to generate an array of 10 equally spaced values between 0 and 1 (inclusive).\n",
        "\n",
        "def create_array(start, stop, step):\n",
        "    ds = np.linspace(start, stop, 10)\n",
        "    return ds\n",
        "\n",
        "s1 = 1\n",
        "s2 = 5\n",
        "s3 = 10\n",
        "create_array(s1,s2,s3)"
      ],
      "metadata": {
        "colab": {
          "base_uri": "https://localhost:8080/"
        },
        "id": "SE8Mt3jcWqbx",
        "outputId": "b2b1dc68-bf6d-486a-b112-30269741e44d"
      },
      "execution_count": null,
      "outputs": [
        {
          "output_type": "execute_result",
          "data": {
            "text/plain": [
              "array([1.        , 1.44444444, 1.88888889, 2.33333333, 2.77777778,\n",
              "       3.22222222, 3.66666667, 4.11111111, 4.55555556, 5.        ])"
            ]
          },
          "metadata": {},
          "execution_count": 5
        }
      ]
    },
    {
      "cell_type": "code",
      "source": [
        "#Write a Python function using NumPy to create an array of 5 logarithmically spaced values between 1 and 1000 (inclusive).\n",
        "\n",
        "def create_array():\n",
        "  ds = np.logspace(1, 1000, 5)\n",
        "  return ds\n",
        "\n",
        "create_array()"
      ],
      "metadata": {
        "colab": {
          "base_uri": "https://localhost:8080/"
        },
        "id": "TKSR24xEXNvQ",
        "outputId": "aab86f83-7832-43d8-e910-63b0840f4a36"
      },
      "execution_count": null,
      "outputs": [
        {
          "output_type": "execute_result",
          "data": {
            "text/plain": [
              "array([1.00000000e+001, 5.62341325e+250,             inf,             inf,\n",
              "                   inf])"
            ]
          },
          "metadata": {},
          "execution_count": 9
        }
      ]
    },
    {
      "cell_type": "code",
      "source": [
        "#Create a Pandas DataFrame using a NumPy array that contains 5 rows and 3 columns, where the values are random integers between 1 and 100.\n",
        "\n",
        "def func(r,c):\n",
        "  ds = np.random.randint(1, 100, size=(r,c))\n",
        "  return ds\n",
        "\n",
        "func(5,3)"
      ],
      "metadata": {
        "colab": {
          "base_uri": "https://localhost:8080/"
        },
        "id": "U7TFUbbuX8Ie",
        "outputId": "b3cbfc22-f978-475b-9cf6-50e83bda4da1"
      },
      "execution_count": null,
      "outputs": [
        {
          "output_type": "execute_result",
          "data": {
            "text/plain": [
              "array([[33,  5, 96],\n",
              "       [21, 82, 72],\n",
              "       [12, 68, 77],\n",
              "       [72, 40, 85],\n",
              "       [36, 86,  5]])"
            ]
          },
          "metadata": {},
          "execution_count": 10
        }
      ]
    },
    {
      "cell_type": "code",
      "source": [
        "#Write a function that takes a Pandas DataFrame and replaces all negative values in a specific column with zeros. Use NumPy operations within the Pandas DataFrame.\n",
        "\n",
        "import pandas as pd\n",
        "\n",
        "data = {\n",
        "    'A': [1, -2, 3, -4, 5],\n",
        "    'B': [-10, 20, -30, 40, -50]\n",
        "}\n",
        "\n",
        "df = pd.DataFrame(data)\n",
        "def replace_neg_from_pandas(df):\n",
        "      df = np.where(df[['A','B']] < 0, 0, df[['A','B']])\n",
        "      return df\n",
        "\n",
        "replace_neg_from_pandas(df)\n"
      ],
      "metadata": {
        "colab": {
          "base_uri": "https://localhost:8080/"
        },
        "id": "bdH_S2k-Y3rW",
        "outputId": "725915ef-3b9f-4e2c-b156-e313b8e3d466"
      },
      "execution_count": null,
      "outputs": [
        {
          "output_type": "execute_result",
          "data": {
            "text/plain": [
              "array([[ 1,  0],\n",
              "       [ 0, 20],\n",
              "       [ 3,  0],\n",
              "       [ 0, 40],\n",
              "       [ 5,  0]])"
            ]
          },
          "metadata": {},
          "execution_count": 34
        }
      ]
    },
    {
      "cell_type": "code",
      "source": [
        "# Access the 3rd element from the given NumPy array. arr = np.array([10, 20, 30, 40, 50])\n",
        "\n",
        "arr = np.array([10, 20, 30, 40, 50])\n",
        "\n",
        "arr[2]"
      ],
      "metadata": {
        "colab": {
          "base_uri": "https://localhost:8080/"
        },
        "id": "6Rjs8-AxapMd",
        "outputId": "5782d471-d021-423e-81af-437f0e25e30c"
      },
      "execution_count": null,
      "outputs": [
        {
          "output_type": "execute_result",
          "data": {
            "text/plain": [
              "30"
            ]
          },
          "metadata": {},
          "execution_count": 35
        }
      ]
    },
    {
      "cell_type": "code",
      "source": [
        "#Retrieve the element at index (1, 2) from the 2D NumPy array. arr_2d = np.array([[1, 2, 3], [4, 5, 6], [7, 8, 9]])\n",
        "\n",
        "arr_2d = np.array([[1, 2, 3], [4, 5, 6], [7, 8, 9]])\n",
        "\n",
        "arr_2d[1,2]"
      ],
      "metadata": {
        "colab": {
          "base_uri": "https://localhost:8080/"
        },
        "id": "Ubuc-EMRfdJB",
        "outputId": "e8a3dfcd-2da0-497e-e5cd-87793a2608a1"
      },
      "execution_count": null,
      "outputs": [
        {
          "output_type": "execute_result",
          "data": {
            "text/plain": [
              "6"
            ]
          },
          "metadata": {},
          "execution_count": 37
        }
      ]
    },
    {
      "cell_type": "code",
      "source": [
        "#Using boolean indexing, extract elements greater than 5 from the given NumPy array. arr = np.array([3, 8, 2, 10, 5, 7])\n",
        "\n",
        "arr = np.array([3, 8, 2, 10, 5, 7])\n",
        "ds = arr[arr > 5]\n",
        "ds"
      ],
      "metadata": {
        "colab": {
          "base_uri": "https://localhost:8080/"
        },
        "id": "PY9emyGefxQ5",
        "outputId": "7d51b625-66d1-4b4a-8925-7dcc48b9728f"
      },
      "execution_count": null,
      "outputs": [
        {
          "output_type": "execute_result",
          "data": {
            "text/plain": [
              "array([ 8, 10,  7])"
            ]
          },
          "metadata": {},
          "execution_count": 40
        }
      ]
    },
    {
      "cell_type": "code",
      "source": [
        "# Perform basic slicing to extract elements from index 2 to 5 (inclusive) from the given NumPy array. arr = np.array([1, 2, 3, 4, 5, 6, 7, 8, 9])\n",
        "\n",
        "arr = np.array([1, 2, 3, 4, 5, 6, 7, 8, 9])\n",
        "arr[2:5+1]"
      ],
      "metadata": {
        "colab": {
          "base_uri": "https://localhost:8080/"
        },
        "id": "juqYZnl7grn4",
        "outputId": "aaceebb7-4180-4828-b95f-7e72f3fdc284"
      },
      "execution_count": null,
      "outputs": [
        {
          "output_type": "execute_result",
          "data": {
            "text/plain": [
              "array([3, 4, 5, 6])"
            ]
          },
          "metadata": {},
          "execution_count": 42
        }
      ]
    },
    {
      "cell_type": "code",
      "source": [
        "#Slice the 2D NumPy array to extract the sub-array `[[2, 3], [5, 6]]` from the given array. arr_2d = np.array([[1, 2, 3], [4, 5, 6], [7, 8, 9]])\n",
        "\n",
        "arr_2d = np.array([[1, 2, 3], [4, 5, 6], [7, 8, 9]])\n",
        "\n",
        "arr_2d[0:2, 1:2+1]"
      ],
      "metadata": {
        "colab": {
          "base_uri": "https://localhost:8080/"
        },
        "id": "8EBtrlOnhCag",
        "outputId": "a461d398-aa01-479f-bb2a-528c3ea18180"
      },
      "execution_count": null,
      "outputs": [
        {
          "output_type": "execute_result",
          "data": {
            "text/plain": [
              "array([[2, 3],\n",
              "       [5, 6]])"
            ]
          },
          "metadata": {},
          "execution_count": 56
        }
      ]
    },
    {
      "cell_type": "code",
      "source": [
        "#Write a NumPy function to extract elements in from a given 2D array based on indices provided in another array.\n",
        "arr_2d = np.array([[1, 2, 3], [4, 5, 6], [7, 8, 9]])\n",
        "indices = np.array([1])\n",
        "\n",
        "def extract_elements(arr_2d, indices):\n",
        "      return arr_2d[indices]\n",
        "\n",
        "extract_elements(arr_2d, indices)"
      ],
      "metadata": {
        "colab": {
          "base_uri": "https://localhost:8080/"
        },
        "id": "ivseA3BESnZc",
        "outputId": "f36c3370-611e-4ba7-bacd-0a30cc6b0344"
      },
      "execution_count": null,
      "outputs": [
        {
          "output_type": "execute_result",
          "data": {
            "text/plain": [
              "array([[4, 5, 6]])"
            ]
          },
          "metadata": {},
          "execution_count": 62
        }
      ]
    },
    {
      "cell_type": "code",
      "source": [
        "#Create a NumPy function that extracts elements from a 2D array using row and column indices provided in separate arrays.\n",
        "\n",
        "def extract_elements(arr_2d, row_indices, col_indices):\n",
        "    return arr_2d[row_indices, col_indices]\n",
        "\n",
        "arr_2d = np.array([[1, 2, 3],\n",
        "                   [4, 5, 6],\n",
        "                   [7, 8, 9]])\n",
        "\n",
        "row_indices = np.array([0, 1, 2])\n",
        "col_indices = np.array([1, 2, 0])\n",
        "\n",
        "extract_elements(arr_2d, row_indices, col_indices)"
      ],
      "metadata": {
        "colab": {
          "base_uri": "https://localhost:8080/"
        },
        "id": "9wbUqnMehqMY",
        "outputId": "480bcbce-cdfd-434c-e481-4e9036da540f"
      },
      "execution_count": null,
      "outputs": [
        {
          "output_type": "execute_result",
          "data": {
            "text/plain": [
              "array([2, 6, 7])"
            ]
          },
          "metadata": {},
          "execution_count": 43
        }
      ]
    },
    {
      "cell_type": "code",
      "source": [
        "#Develop a NumPy function that extracts specific elements from a 3D array using indices provided in three separate arrays for each dimension.\n",
        "\n",
        "def extract_elements(arr_3d, indices_x, indices_y, indices_z):\n",
        "    return arr_3d[indices_x, indices_y, indices_z]\n",
        "\n",
        "arr_3d = np.array([[[1, 2, 3], [4, 5, 6], [7, 8, 9]],\n",
        "                   [[10, 11, 12], [13, 14, 15], [16, 17, 18]],\n",
        "                   [[19, 20, 21], [22, 23, 24], [25, 26, 27]]])\n",
        "\n",
        "indices_x = np.array([0, 1, 2])\n",
        "indices_y = np.array([1, 2, 0])\n",
        "indices_z = np.array([2, 1, 0])\n",
        "\n",
        "extract_elements(arr_3d, indices_x, indices_y, indices_z)"
      ],
      "metadata": {
        "colab": {
          "base_uri": "https://localhost:8080/"
        },
        "id": "8uO2jU0CJrzs",
        "outputId": "8bd615b5-10f9-48c1-db87-81d8f09f2fe7"
      },
      "execution_count": null,
      "outputs": [
        {
          "output_type": "execute_result",
          "data": {
            "text/plain": [
              "array([ 6, 17, 19])"
            ]
          },
          "metadata": {},
          "execution_count": 41
        }
      ]
    },
    {
      "cell_type": "code",
      "source": [
        "# Create a NumPy function that filters elements greater than a threshold from a given 1D array using boolean indexing.\n",
        "\n",
        "def check_threshold(arr, threshold):\n",
        "    ds = arr[arr > threshold]\n",
        "    return ds\n",
        "\n",
        "array1 = np.array([12, 24, 16, 21, 32, 29, 7, 15])\n",
        "threshold = 20\n",
        "check_threshold(array1, threshold)"
      ],
      "metadata": {
        "colab": {
          "base_uri": "https://localhost:8080/"
        },
        "id": "dnN3uIDjOPgn",
        "outputId": "bf531ea8-8edb-461a-9650-5604077ecd82"
      },
      "execution_count": null,
      "outputs": [
        {
          "output_type": "execute_result",
          "data": {
            "text/plain": [
              "array([24, 21, 32, 29])"
            ]
          },
          "metadata": {},
          "execution_count": 44
        }
      ]
    },
    {
      "cell_type": "code",
      "source": [
        "#Write a NumPy function that returns elements from an array where both two conditions are satisfied using boolean indexing.\n",
        "array1 = np.array([12, 24, 16, 21, 32, 29, 7, 15])\n",
        "condition1 = 20\n",
        "\n",
        "def check_threshold(arr, threshold):\n",
        "    ds = arr[arr > threshold]\n",
        "    ds2 = ds%2 == 0\n",
        "    return ds[ds2]\n",
        "\n",
        "check_threshold(array1, threshold)"
      ],
      "metadata": {
        "colab": {
          "base_uri": "https://localhost:8080/"
        },
        "id": "epsNGq5WPYMF",
        "outputId": "4eed4036-8bf9-4351-901e-bfefbd48695b"
      },
      "execution_count": null,
      "outputs": [
        {
          "output_type": "execute_result",
          "data": {
            "text/plain": [
              "array([24, 32])"
            ]
          },
          "metadata": {},
          "execution_count": 51
        }
      ]
    },
    {
      "cell_type": "code",
      "source": [
        "# Given an array arr of shape (3, 3), add a scalar value of 5 to each element using NumPy broadcasting.\n",
        "\n",
        "arr_3d = np.array([[1, 2, 3],\n",
        "                   [10, 11, 12],\n",
        "                   [19, 20, 21]])\n",
        "\n",
        "arr_3d + 5"
      ],
      "metadata": {
        "colab": {
          "base_uri": "https://localhost:8080/"
        },
        "id": "TbYDjI0tRkuM",
        "outputId": "bf4b23ee-a83f-47d5-946f-594a606a98ed"
      },
      "execution_count": null,
      "outputs": [
        {
          "output_type": "execute_result",
          "data": {
            "text/plain": [
              "array([[ 6,  7,  8],\n",
              "       [15, 16, 17],\n",
              "       [24, 25, 26]])"
            ]
          },
          "metadata": {},
          "execution_count": 69
        }
      ]
    },
    {
      "cell_type": "code",
      "source": [
        "# Consider two arrays arr1 of shape (1, 3) and arr2 of shape (3, 4). Multiply each row of arr2 by the corresponding element in arr1 using NumPy broadcasting.\n",
        "\n",
        "arr1 = np.array([[1, 2, 3]])\n",
        "arr2 = np.array([[1, 2, 3, 4],\n",
        "                 [5, 6, 7, 8],\n",
        "                 [9, 1, 2, 3]])\n",
        "\n",
        "arr1 = arr1.T\n",
        "arr2 * arr1"
      ],
      "metadata": {
        "colab": {
          "base_uri": "https://localhost:8080/"
        },
        "id": "v1gHelfQXkfZ",
        "outputId": "107d15b0-896e-401a-f59d-020beb307bff"
      },
      "execution_count": null,
      "outputs": [
        {
          "output_type": "stream",
          "name": "stdout",
          "text": [
            "[[ 1  2  3  4]\n",
            " [10 12 14 16]\n",
            " [27  3  6  9]]\n"
          ]
        }
      ]
    },
    {
      "cell_type": "code",
      "source": [
        "#Given a 1D array arr1 of shape (1, 4) and a 2D array arr2 of shape (4, 3), add arr1 to each row of arr2 using NumPy broadcasting.\n",
        "\n",
        "arr1 = np.array([[1, 2, 3, 4]])\n",
        "arr2 = np.array([[1, 2, 3],\n",
        "                 [4, 5, 6],\n",
        "                 [7, 8, 9],\n",
        "                 [10, 11, 12]])\n",
        "\n",
        "arr1 = arr1.T\n",
        "arr2 + arr1"
      ],
      "metadata": {
        "colab": {
          "base_uri": "https://localhost:8080/"
        },
        "id": "ag9G8VetaiFv",
        "outputId": "2e44ec10-7e2b-47e0-c53a-5c9e46591de7"
      },
      "execution_count": null,
      "outputs": [
        {
          "output_type": "execute_result",
          "data": {
            "text/plain": [
              "array([[ 2,  3,  4],\n",
              "       [ 6,  7,  8],\n",
              "       [10, 11, 12],\n",
              "       [14, 15, 16]])"
            ]
          },
          "metadata": {},
          "execution_count": 90
        }
      ]
    },
    {
      "cell_type": "code",
      "source": [
        "#Consider two arrays arr1 of shape (3, 1) and arr2 of shape (1, 3). Add these arrays using NumPy broadcasting.\n",
        "\n",
        "arr2 = np.array([[1, 2, 3]])\n",
        "arr1 = arr2.T\n",
        "arr2 + arr1"
      ],
      "metadata": {
        "colab": {
          "base_uri": "https://localhost:8080/"
        },
        "id": "5LfxTSHva_lt",
        "outputId": "20c956a9-e199-41d2-97c1-d52e39f0cc7d"
      },
      "execution_count": null,
      "outputs": [
        {
          "output_type": "execute_result",
          "data": {
            "text/plain": [
              "array([[2, 3, 4],\n",
              "       [3, 4, 5],\n",
              "       [4, 5, 6]])"
            ]
          },
          "metadata": {},
          "execution_count": 95
        }
      ]
    },
    {
      "cell_type": "code",
      "source": [
        "#Given arrays arr1 of shape (2, 3) and arr2 of shape (2, 2), perform multiplication using NumPy broadcasting. Handle the shape incompatibility.\n",
        "\n",
        "arr1 = np.array([[1, 2, 3],\n",
        "                 [4, 5, 6]])\n",
        "arr2 = np.array([[1, 2],\n",
        "                 [3, 4],\n",
        "                 [5, 6]])\n",
        "arr2 = arr2.T\n",
        "arr1 * arr2"
      ],
      "metadata": {
        "colab": {
          "base_uri": "https://localhost:8080/"
        },
        "id": "2J9apdl7bJ0r",
        "outputId": "ca953010-79a9-4388-ec90-76a0e0041b34"
      },
      "execution_count": null,
      "outputs": [
        {
          "output_type": "execute_result",
          "data": {
            "text/plain": [
              "array([[ 1,  6, 15],\n",
              "       [ 8, 20, 36]])"
            ]
          },
          "metadata": {},
          "execution_count": 99
        }
      ]
    },
    {
      "cell_type": "code",
      "source": [
        "# Calculate column-wise mean for the given array:\n",
        "\n",
        "arr = np.array([[1, 2, 3], [4, 5, 6]])\n",
        "\n",
        "def mean_cal(arr):\n",
        "  ds = np.mean(arr, axis=0)\n",
        "  return ds\n",
        "\n",
        "mean_cal(arr)"
      ],
      "metadata": {
        "id": "dd3AOx86bro6",
        "colab": {
          "base_uri": "https://localhost:8080/"
        },
        "outputId": "3d72f93b-a710-4522-f919-a6c6b86a4436"
      },
      "execution_count": null,
      "outputs": [
        {
          "output_type": "execute_result",
          "data": {
            "text/plain": [
              "array([2.5, 3.5, 4.5])"
            ]
          },
          "metadata": {},
          "execution_count": 4
        }
      ]
    },
    {
      "cell_type": "code",
      "source": [
        "#Find maximum value in each row of the given array:\n",
        "arr = np.array([[1, 2, 3], [4, 5, 6]])\n",
        "\n",
        "def max_val(arr):\n",
        "  ds = np.max(arr, axis=1)\n",
        "  return ds\n",
        "\n",
        "arr = np.array([[1, 2, 3], [4, 5, 6]])\n",
        "max_val(arr)"
      ],
      "metadata": {
        "colab": {
          "base_uri": "https://localhost:8080/"
        },
        "id": "Jo73hJW6akP_",
        "outputId": "706e1e48-cb04-4984-d247-2c248f1789bd"
      },
      "execution_count": null,
      "outputs": [
        {
          "output_type": "execute_result",
          "data": {
            "text/plain": [
              "array([3, 6])"
            ]
          },
          "metadata": {},
          "execution_count": 5
        }
      ]
    },
    {
      "cell_type": "code",
      "source": [
        "# For the given array, find indices of maximum value in each column.\n",
        "arr = np.array([[1, 2, 3], [4, 5, 6]])\n",
        "\n",
        "def index_of_max(arr):\n",
        "    ds = np.argmax(arr, axis=0)\n",
        "    return ds\n",
        "\n",
        "index_of_max(arr)"
      ],
      "metadata": {
        "colab": {
          "base_uri": "https://localhost:8080/"
        },
        "id": "MF_WFd5xa8o2",
        "outputId": "4a08c566-9540-44a5-ae4f-210b75ffe2fb"
      },
      "execution_count": null,
      "outputs": [
        {
          "output_type": "execute_result",
          "data": {
            "text/plain": [
              "array([1, 1, 1])"
            ]
          },
          "metadata": {},
          "execution_count": 14
        }
      ]
    },
    {
      "cell_type": "code",
      "source": [
        "#For the given array, apply custom function to calculate moving sum along rows.\n",
        "arr = np.array([[1, 2, 3], [4, 5, 6]])\n",
        "\n",
        "def cal_sum(arr):\n",
        "  ds = np.cumsum(arr, axis=1)\n",
        "  return ds\n",
        "\n",
        "cal_sum(arr)"
      ],
      "metadata": {
        "colab": {
          "base_uri": "https://localhost:8080/"
        },
        "id": "UENgFGlvbN81",
        "outputId": "29afdac4-ee2b-451e-be05-cc20a01ad44b"
      },
      "execution_count": null,
      "outputs": [
        {
          "output_type": "execute_result",
          "data": {
            "text/plain": [
              "array([[ 1,  3,  6],\n",
              "       [ 4,  9, 15]])"
            ]
          },
          "metadata": {},
          "execution_count": 16
        }
      ]
    },
    {
      "cell_type": "code",
      "source": [
        "#In the given array, check if all elements in each column are even.\n",
        "arr = np.array([[2, 4, 6], [3, 5, 7]])\n",
        "\n",
        "def check_evnn(arr):\n",
        "  ds = arr % 2 == 0\n",
        "  return arr[ds]\n",
        "\n",
        "check_evnn(arr)"
      ],
      "metadata": {
        "colab": {
          "base_uri": "https://localhost:8080/"
        },
        "id": "JqbyFeUDcRoc",
        "outputId": "c1898a15-a034-41a1-cf4b-a46b6da27083"
      },
      "execution_count": null,
      "outputs": [
        {
          "output_type": "execute_result",
          "data": {
            "text/plain": [
              "array([2, 4, 6])"
            ]
          },
          "metadata": {},
          "execution_count": 18
        }
      ]
    },
    {
      "cell_type": "code",
      "source": [
        "#Given a NumPy array arr, reshape it into a matrix of dimensions `m` rows and `n` columns. Return the reshaped matrix.\n",
        "original_array = np.array([1, 2, 3, 4, 5, 6])\n",
        "\n",
        "arr = np.matrix(original_array)\n",
        "m = 2\n",
        "n = 3\n",
        "arr.reshape(m,n)"
      ],
      "metadata": {
        "colab": {
          "base_uri": "https://localhost:8080/"
        },
        "id": "wgiAmGxfdjFL",
        "outputId": "4521605b-a160-455a-9e49-8f8c78298d45"
      },
      "execution_count": null,
      "outputs": [
        {
          "output_type": "execute_result",
          "data": {
            "text/plain": [
              "matrix([[1, 2, 3],\n",
              "        [4, 5, 6]])"
            ]
          },
          "metadata": {},
          "execution_count": 21
        }
      ]
    },
    {
      "cell_type": "code",
      "source": [
        "#Create a function that takes a matrix as input and returns the flattened array.\n",
        "input_matrix = np.array([[1, 2, 3], [4, 5, 6]])\n",
        "\n",
        "def flatten_arr(arr):\n",
        "    ds = arr.flatten()\n",
        "    return ds\n",
        "\n",
        "flatten_arr(input_matrix)"
      ],
      "metadata": {
        "colab": {
          "base_uri": "https://localhost:8080/"
        },
        "id": "GdBeeZcwd1yr",
        "outputId": "105e4b0f-75d9-46b1-bc1e-7aa71ee05be5"
      },
      "execution_count": null,
      "outputs": [
        {
          "output_type": "execute_result",
          "data": {
            "text/plain": [
              "array([1, 2, 3, 4, 5, 6])"
            ]
          },
          "metadata": {},
          "execution_count": 31
        }
      ]
    },
    {
      "cell_type": "code",
      "source": [
        "#Write a function that concatenates two given arrays along a specified axis.\n",
        "array1 = np.array([[1, 2], [3, 4]])\n",
        "array2 = np.array([[5, 6], [7, 8]])\n",
        "\n",
        "ds = np.concatenate((array1, array2), axis=1)\n",
        "ds"
      ],
      "metadata": {
        "colab": {
          "base_uri": "https://localhost:8080/"
        },
        "id": "XROeQ--xfWtq",
        "outputId": "dd8b1e4f-698d-460b-bee3-7531e16a11b4"
      },
      "execution_count": null,
      "outputs": [
        {
          "output_type": "execute_result",
          "data": {
            "text/plain": [
              "array([[1, 2, 5, 6],\n",
              "       [3, 4, 7, 8]])"
            ]
          },
          "metadata": {},
          "execution_count": 37
        }
      ]
    },
    {
      "cell_type": "code",
      "source": [
        "#Create a function that splits an array into multiple sub-arrays along a specified axis.\n",
        "original_array = np.array([[1, 2, 3], [4, 5, 6], [7, 8, 9]])\n",
        "\n",
        "np.array_split(original_array, 3)\n"
      ],
      "metadata": {
        "colab": {
          "base_uri": "https://localhost:8080/"
        },
        "id": "iLT_-k43ggDg",
        "outputId": "a75ed56e-2282-425f-bbdc-ee1c7c02fb1e"
      },
      "execution_count": null,
      "outputs": [
        {
          "output_type": "execute_result",
          "data": {
            "text/plain": [
              "[array([[1, 2, 3]]), array([[4, 5, 6]]), array([[7, 8, 9]])]"
            ]
          },
          "metadata": {},
          "execution_count": 49
        }
      ]
    },
    {
      "cell_type": "code",
      "source": [
        "# Write a function that inserts and then deletes elements from a given array at specified indices.\n",
        "original_array = np.array([1, 2, 3, 4, 5])\n",
        "indices_to_insert = [2, 4]\n",
        "values_to_insert = [10, 11]\n",
        "indices_to_delete = [1, 3]\n",
        "\n",
        "original_array = np.insert(arr=original_array, obj=indices_to_insert, values=values_to_insert)\n",
        "np.delete(arr=original_array, obj=indices_to_delete)"
      ],
      "metadata": {
        "colab": {
          "base_uri": "https://localhost:8080/"
        },
        "id": "tGwE3hibhlb4",
        "outputId": "9749225a-b080-4991-dc11-e29449461c58"
      },
      "execution_count": null,
      "outputs": [
        {
          "output_type": "execute_result",
          "data": {
            "text/plain": [
              "array([ 1, 10,  4, 11,  5])"
            ]
          },
          "metadata": {},
          "execution_count": 59
        }
      ]
    },
    {
      "cell_type": "code",
      "source": [
        "#Create a NumPy array `arr1` with random integers and another array `arr2` with integers from 1 to 10. Perform element-wise addition between `arr1` and `arr2`.\n",
        "\n",
        "arr1 = np.random.randint(0,10, 5)\n",
        "arr2 = np.random.randint(0,10, 5)\n",
        "arr1 + arr2"
      ],
      "metadata": {
        "colab": {
          "base_uri": "https://localhost:8080/"
        },
        "id": "x9OO3GNki0xm",
        "outputId": "2a0c383b-3c73-492d-95d0-8ff124f9475b"
      },
      "execution_count": null,
      "outputs": [
        {
          "output_type": "execute_result",
          "data": {
            "text/plain": [
              "array([15, 12, 12,  7, 11])"
            ]
          },
          "metadata": {},
          "execution_count": 65
        }
      ]
    },
    {
      "cell_type": "code",
      "source": [
        "#Generate a NumPy array `arr1` with sequential integers from 10 to 1 and another array `arr2` with integers from 1 to 10. Subtract `arr2` from `arr1` element-wise.\n",
        "arr1 = np.arange(10,1, -1)\n",
        "arr2 = np.arange(1,10)\n",
        "arr2-arr1"
      ],
      "metadata": {
        "colab": {
          "base_uri": "https://localhost:8080/"
        },
        "id": "Vi4P6xJ3lU3s",
        "outputId": "04ff927d-e2e5-4f13-b068-2ed17a086134"
      },
      "execution_count": null,
      "outputs": [
        {
          "output_type": "execute_result",
          "data": {
            "text/plain": [
              "array([-9, -7, -5, -3, -1,  1,  3,  5,  7])"
            ]
          },
          "metadata": {},
          "execution_count": 75
        }
      ]
    },
    {
      "cell_type": "code",
      "source": [
        "#Create a NumPy array `arr1` with random integers and another array `arr2` with integers from 1 to 5. Perform element-wise multiplication between `arr1` and `arr2`.\n",
        "arr1 = np.random.randint(0,5, 3)\n",
        "arr2 = np.random.randint(0,5, 3)\n",
        "print(arr1, arr2)\n",
        "np.multiply(arr1 , arr2)"
      ],
      "metadata": {
        "colab": {
          "base_uri": "https://localhost:8080/"
        },
        "id": "RWu7LC_6ls7U",
        "outputId": "f95eba18-bf59-41b2-efa3-11b68016dbac"
      },
      "execution_count": null,
      "outputs": [
        {
          "output_type": "stream",
          "name": "stdout",
          "text": [
            "[2 2 4] [2 4 2]\n"
          ]
        },
        {
          "output_type": "execute_result",
          "data": {
            "text/plain": [
              "array([4, 8, 8])"
            ]
          },
          "metadata": {},
          "execution_count": 77
        }
      ]
    },
    {
      "cell_type": "code",
      "source": [
        "# Generate a NumPy array `arr1` with even integers from 2 to 10 and another array `arr2` with integers from 1 to 5. Perform element-wise division of `arr1` by `arr2`.\n",
        "arr1 = np.arange(2,10, 2)\n",
        "arr2 = np.arange(1,5)\n",
        "print(arr1, arr2)\n",
        "np.divide(arr1, arr2)"
      ],
      "metadata": {
        "colab": {
          "base_uri": "https://localhost:8080/"
        },
        "id": "kJh93PQkmqYT",
        "outputId": "ddc7f9f8-32f6-4665-a052-53134809b56a"
      },
      "execution_count": null,
      "outputs": [
        {
          "output_type": "stream",
          "name": "stdout",
          "text": [
            "[2 4 6 8] [1 2 3 4]\n"
          ]
        },
        {
          "output_type": "execute_result",
          "data": {
            "text/plain": [
              "array([2., 2., 2., 2.])"
            ]
          },
          "metadata": {},
          "execution_count": 82
        }
      ]
    },
    {
      "cell_type": "code",
      "source": [
        "# Create a NumPy array `arr1` with integers from 1 to 5 and another array `arr2` with the same numbers reversed. Calculate the exponentiation of `arr1` raised to the power of `arr2` element-wise.\n",
        "arr1 = np.arange(1,5)\n",
        "arr2 = arr1[::-1]\n",
        "print(arr1, arr2)\n",
        "arr1 ** arr2\n"
      ],
      "metadata": {
        "colab": {
          "base_uri": "https://localhost:8080/"
        },
        "id": "0uKueKgum5wi",
        "outputId": "2f550c9f-687a-40c6-c626-20af1614ada2"
      },
      "execution_count": null,
      "outputs": [
        {
          "output_type": "stream",
          "name": "stdout",
          "text": [
            "[1 2 3 4] [4 3 2 1]\n"
          ]
        },
        {
          "output_type": "execute_result",
          "data": {
            "text/plain": [
              "array([1, 8, 9, 4])"
            ]
          },
          "metadata": {},
          "execution_count": 93
        }
      ]
    },
    {
      "cell_type": "code",
      "source": [
        "#Write a function that counts the occurrences of a specific substring within a NumPy array of strings.\n",
        "arr = np.array(['hello', 'world', 'hello', 'numpy', 'hello'])\n",
        "np.char.count(arr, 'hello').sum()\n"
      ],
      "metadata": {
        "colab": {
          "base_uri": "https://localhost:8080/"
        },
        "id": "bm4yuEDinc66",
        "outputId": "5454600b-1f8c-4161-8558-0203ff49be01"
      },
      "execution_count": null,
      "outputs": [
        {
          "output_type": "execute_result",
          "data": {
            "text/plain": [
              "3"
            ]
          },
          "metadata": {},
          "execution_count": 110
        }
      ]
    },
    {
      "cell_type": "code",
      "source": [
        "# Write a function that extracts uppercase characters from a NumPy array of strings.\n",
        "arr = np.array(['Hello', 'World', 'OpenAI', 'GPT'])\n",
        "np.char.lower(arr)"
      ],
      "metadata": {
        "colab": {
          "base_uri": "https://localhost:8080/"
        },
        "id": "uefQDLmJo6KI",
        "outputId": "59111f6c-930f-423b-df86-39f9132a0e7a"
      },
      "execution_count": null,
      "outputs": [
        {
          "output_type": "execute_result",
          "data": {
            "text/plain": [
              "array(['hello', 'world', 'openai', 'gpt'], dtype='<U6')"
            ]
          },
          "metadata": {},
          "execution_count": 112
        }
      ]
    },
    {
      "cell_type": "code",
      "source": [
        "#Write a function that replaces occurrences of a substring in a NumPy array of strings with a new string.\n",
        "arr = np.array(['apple', 'banana', 'grape', 'pineapple'])\n",
        "\n",
        "arr1 = np.char.replace(arr, 'grape', 'kiwi')\n",
        "arr1"
      ],
      "metadata": {
        "colab": {
          "base_uri": "https://localhost:8080/"
        },
        "id": "JZHOH6ear3xf",
        "outputId": "55e78d5a-53d7-4730-8f5c-700e0db0084c"
      },
      "execution_count": null,
      "outputs": [
        {
          "output_type": "execute_result",
          "data": {
            "text/plain": [
              "array(['apple', 'banana', 'kiwi', 'pineapple'], dtype='<U9')"
            ]
          },
          "metadata": {},
          "execution_count": 115
        }
      ]
    },
    {
      "cell_type": "code",
      "source": [
        "#Write a function that concatenates strings in a NumPy array element-wise.\n",
        "arr1 = np.array(['Hello', 'World'])\n",
        "arr2 = np.array(['Open', 'AI'])\n",
        "\n",
        "np.char.add(arr1, arr2)"
      ],
      "metadata": {
        "colab": {
          "base_uri": "https://localhost:8080/"
        },
        "id": "NQHd5G7Asunt",
        "outputId": "cfba67f5-b7b8-4d29-eb52-1e8b4b74a2a1"
      },
      "execution_count": null,
      "outputs": [
        {
          "output_type": "execute_result",
          "data": {
            "text/plain": [
              "array(['HelloOpen', 'WorldAI'], dtype='<U9')"
            ]
          },
          "metadata": {},
          "execution_count": 123
        }
      ]
    },
    {
      "cell_type": "code",
      "source": [
        "# Write a function that finds the length of the longest string in a NumPy array.\n",
        "arr = np.array(['apple', 'banana', 'grape', 'pineapple'])\n",
        "np.char.str_len(arr).max()"
      ],
      "metadata": {
        "colab": {
          "base_uri": "https://localhost:8080/"
        },
        "id": "LZSeKKhKt-ss",
        "outputId": "9450d99a-b1b7-4a5e-af18-ef2268db4e6e"
      },
      "execution_count": null,
      "outputs": [
        {
          "output_type": "execute_result",
          "data": {
            "text/plain": [
              "9"
            ]
          },
          "metadata": {},
          "execution_count": 126
        }
      ]
    },
    {
      "cell_type": "code",
      "source": [
        "#Create a dataset of 100 random integers between 1 and 1000. Compute the mean, median, variance, and standard deviation of the dataset using NumPy's functions.\n",
        "\n",
        "data = np.random.randint(1, 1001, 100)\n",
        "\n",
        "mean = np.mean(data)\n",
        "median = np.median(data)\n",
        "variance = np.var(data)\n",
        "std_deviation = np.std(data)\n",
        "\n",
        "print(\"Mean:\", mean)\n",
        "print(\"Median:\", median)\n",
        "print(\"Variance:\", variance)\n",
        "print(\"Standard Deviation:\", std_deviation)"
      ],
      "metadata": {
        "id": "z1507Ca2uTEU",
        "colab": {
          "base_uri": "https://localhost:8080/"
        },
        "outputId": "d3d550e8-b699-4785-f4dc-382b9e4564b6"
      },
      "execution_count": 20,
      "outputs": [
        {
          "output_type": "stream",
          "name": "stdout",
          "text": [
            "Mean: 498.82\n",
            "Median: 462.0\n",
            "Variance: 87118.64759999998\n",
            "Standard Deviation: 295.1586820677989\n"
          ]
        }
      ]
    },
    {
      "cell_type": "code",
      "source": [
        "#Generate an array of 50 random numbers between 1 and 100. Find the 25th and 75th percentiles of the dataset.\n",
        "\n",
        "data = np.random.randint(1, 101, 50)\n",
        "ds = np.percentile(data, [25,75])\n",
        "f\"25th percentiles is {ds[0]} and 75th percentiles is {ds[1]}\""
      ],
      "metadata": {
        "colab": {
          "base_uri": "https://localhost:8080/",
          "height": 35
        },
        "id": "grLnv6MRh0XH",
        "outputId": "8bfc3e2a-7f20-4990-b187-3c00fe422a13"
      },
      "execution_count": 27,
      "outputs": [
        {
          "output_type": "execute_result",
          "data": {
            "text/plain": [
              "'25th percentiles is 27.0 and 75th percentiles is 83.0'"
            ],
            "application/vnd.google.colaboratory.intrinsic+json": {
              "type": "string"
            }
          },
          "metadata": {},
          "execution_count": 27
        }
      ]
    },
    {
      "cell_type": "code",
      "source": [
        "# Create two arrays representing two sets of variables. Compute the correlation coefficient between these arrays using NumPy's `corrcoef` function.\n",
        "\n",
        "data = np.random.randint(1, 101, 50)\n",
        "data1 = np.random.randint(1, 101, 50)\n",
        "\n",
        "np.corrcoef(data, data1)"
      ],
      "metadata": {
        "colab": {
          "base_uri": "https://localhost:8080/"
        },
        "id": "Esc_FXyFmwmA",
        "outputId": "7c5abb63-8209-46d0-c5b5-92c49e488473"
      },
      "execution_count": 33,
      "outputs": [
        {
          "output_type": "execute_result",
          "data": {
            "text/plain": [
              "array([[ 1.        , -0.17621336],\n",
              "       [-0.17621336,  1.        ]])"
            ]
          },
          "metadata": {},
          "execution_count": 33
        }
      ]
    },
    {
      "cell_type": "code",
      "source": [
        "#Create two matrices and perform matrix multiplication using NumPy's `dot` function.\n",
        "\n",
        "data = np.random.randint(1,20, 9)\n",
        "data1 = np.random.randint(1,20, 9)\n",
        "\n",
        "data = np.reshape(data, (3,3))\n",
        "data1 = np.reshape(data1, (3,3))\n",
        "\n",
        "np.dot(data, data1)"
      ],
      "metadata": {
        "colab": {
          "base_uri": "https://localhost:8080/"
        },
        "id": "U-wjMd5joBrB",
        "outputId": "e4151fcc-0ead-4aee-ff10-5ba750dcaac9"
      },
      "execution_count": 48,
      "outputs": [
        {
          "output_type": "execute_result",
          "data": {
            "text/plain": [
              "array([[318, 181, 265],\n",
              "       [471, 247, 244],\n",
              "       [514, 295, 279]])"
            ]
          },
          "metadata": {},
          "execution_count": 48
        }
      ]
    },
    {
      "cell_type": "code",
      "source": [
        "# Create an array of 50 integers between 10 and 1000. Calculate the 10th, 50th (median), and 90th percentiles along with the first and third quartiles.\n",
        "\n",
        "data = np.random.randint(1, 1001, 50)\n",
        "\n",
        "percentiles = np.percentile(data, [10, 25, 50, 75, 90])\n",
        "\n",
        "print(\"10th percentile:\", percentiles[0])\n",
        "print(\"25th percentile (Q1):\", percentiles[1])\n",
        "print(\"50th percentile (median):\", percentiles[2])\n",
        "print(\"75th percentile (Q3):\", percentiles[3])\n",
        "print(\"90th percentile:\", percentiles[4])"
      ],
      "metadata": {
        "colab": {
          "base_uri": "https://localhost:8080/"
        },
        "id": "MQHzqrdroUXm",
        "outputId": "558d9fe4-55b8-45dc-d733-b9ed8a5a7320"
      },
      "execution_count": 51,
      "outputs": [
        {
          "output_type": "stream",
          "name": "stdout",
          "text": [
            "10th percentile: 229.00000000000003\n",
            "25th percentile (Q1): 330.75\n",
            "50th percentile (median): 559.0\n",
            "75th percentile (Q3): 773.0\n",
            "90th percentile: 879.0\n"
          ]
        }
      ]
    },
    {
      "cell_type": "code",
      "source": [
        "#Create a NumPy array of integers and find the index of a specific element.\n",
        "\n",
        "data = np.arange(1,10+1)\n",
        "\n",
        "ds = np.where(data == 5)\n",
        "ds"
      ],
      "metadata": {
        "colab": {
          "base_uri": "https://localhost:8080/"
        },
        "id": "bfUwmrosqANU",
        "outputId": "10d19ff1-b7ce-4f41-e2d4-4ea6640ff55c"
      },
      "execution_count": 59,
      "outputs": [
        {
          "output_type": "execute_result",
          "data": {
            "text/plain": [
              "(array([4]),)"
            ]
          },
          "metadata": {},
          "execution_count": 59
        }
      ]
    },
    {
      "cell_type": "code",
      "source": [
        "#Filter elements >20  in the given NumPy array.\n",
        "arr = np.array([12, 25, 6, 42, 8, 30])\n",
        "\n",
        "ds = arr > 20\n",
        "arr[ds]"
      ],
      "metadata": {
        "colab": {
          "base_uri": "https://localhost:8080/"
        },
        "id": "KkDcSQawqcVE",
        "outputId": "8e46cb98-c303-41da-f8f2-de49e03b30e6"
      },
      "execution_count": 61,
      "outputs": [
        {
          "output_type": "execute_result",
          "data": {
            "text/plain": [
              "array([25, 42, 30])"
            ]
          },
          "metadata": {},
          "execution_count": 61
        }
      ]
    },
    {
      "cell_type": "code",
      "source": [
        "# Filter elements which are divisible by 3 from a given NumPy array.\n",
        "arr = np.array([1, 5, 8, 12, 15])\n",
        "\n",
        "ds = arr % 3 == 0\n",
        "\n",
        "arr[ds]"
      ],
      "metadata": {
        "colab": {
          "base_uri": "https://localhost:8080/"
        },
        "id": "0gqAadaGrLET",
        "outputId": "d142fed9-44aa-4de4-a272-c742639c01a2"
      },
      "execution_count": 62,
      "outputs": [
        {
          "output_type": "execute_result",
          "data": {
            "text/plain": [
              "array([12, 15])"
            ]
          },
          "metadata": {},
          "execution_count": 62
        }
      ]
    },
    {
      "cell_type": "code",
      "source": [
        "# Filter elements which are ≥ 20 and ≤ 40 from a given NumPy array.\n",
        "arr = np.array([10, 20, 30, 40, 50])\n",
        "\n",
        "ds = (arr >= 20) & (arr <= 40)\n",
        "arr[ds]"
      ],
      "metadata": {
        "colab": {
          "base_uri": "https://localhost:8080/"
        },
        "id": "0mtDPGsLrU_T",
        "outputId": "0636a41d-697d-4d04-ae71-356361ef2cea"
      },
      "execution_count": 84,
      "outputs": [
        {
          "output_type": "execute_result",
          "data": {
            "text/plain": [
              "array([20, 30, 40])"
            ]
          },
          "metadata": {},
          "execution_count": 84
        }
      ]
    },
    {
      "cell_type": "code",
      "source": [
        "# For the given NumPy array, check its byte order using the `dtype` attribute byteorder.\n",
        "arr = np.array([1, 2, 3])\n",
        "\n",
        "arr.dtype.byteorder"
      ],
      "metadata": {
        "colab": {
          "base_uri": "https://localhost:8080/",
          "height": 35
        },
        "id": "wy84tk1SrheL",
        "outputId": "7742a900-6023-4fb7-c77f-a68a4374146f"
      },
      "execution_count": 88,
      "outputs": [
        {
          "output_type": "execute_result",
          "data": {
            "text/plain": [
              "'='"
            ],
            "application/vnd.google.colaboratory.intrinsic+json": {
              "type": "string"
            }
          },
          "metadata": {},
          "execution_count": 88
        }
      ]
    },
    {
      "cell_type": "code",
      "source": [
        "#For the given NumPy array, perform byte swapping in place using `byteswap()`.\n",
        "arr = np.array([1, 2, 3], dtype=np.int32)\n",
        "\n",
        "arr.byteswap()"
      ],
      "metadata": {
        "colab": {
          "base_uri": "https://localhost:8080/"
        },
        "id": "Qnm7nFQd6uSj",
        "outputId": "4a8e6f19-c7e0-4417-9566-42bd4cc691b2"
      },
      "execution_count": 89,
      "outputs": [
        {
          "output_type": "execute_result",
          "data": {
            "text/plain": [
              "array([16777216, 33554432, 50331648], dtype=int32)"
            ]
          },
          "metadata": {},
          "execution_count": 89
        }
      ]
    },
    {
      "cell_type": "code",
      "source": [
        "#For the given NumPy array, swap its byte order without modifying the original array using `newbyteorder()`.\n",
        "arr = np.array([1, 2, 3], dtype=np.int32)\n",
        "\n",
        "arr.newbyteorder()"
      ],
      "metadata": {
        "colab": {
          "base_uri": "https://localhost:8080/"
        },
        "id": "YmKBA4YL7ENT",
        "outputId": "829f9465-efa5-4940-a0d8-ecf2e349ffe1"
      },
      "execution_count": 90,
      "outputs": [
        {
          "output_type": "execute_result",
          "data": {
            "text/plain": [
              "array([16777216, 33554432, 50331648], dtype='>i4')"
            ]
          },
          "metadata": {},
          "execution_count": 90
        }
      ]
    },
    {
      "cell_type": "code",
      "source": [
        "#For the given NumPy array and swap its byte order conditionally based on system endianness using `newbyteorder()`.\n",
        "arr = np.array([1, 2, 3], dtype=np.int32)\n",
        "\n",
        "if arr.dtype.byteorder == '=':\n",
        "    system_endianness = np.dtype(int).byteorder\n",
        "else:\n",
        "    system_endianness = arr.dtype.byteorder\n",
        "\n",
        "if system_endianness == '<':\n",
        "    swapped_arr = arr.newbyteorder('>')\n",
        "elif system_endianness == '>':\n",
        "    swapped_arr = arr.newbyteorder('<')\n",
        "else:\n",
        "    swapped_arr = arr\n",
        "\n",
        "print(\"Original array:\", arr)\n",
        "print(\"Original array byte order:\", arr.dtype.byteorder)\n",
        "print(\"Swapped array:\", swapped_arr)\n",
        "print(\"Swapped array byte order:\", swapped_arr.dtype.byteorder)"
      ],
      "metadata": {
        "colab": {
          "base_uri": "https://localhost:8080/"
        },
        "id": "szv8Nwkh7NA7",
        "outputId": "a8d7f379-8eb7-4867-bd14-06546954fc08"
      },
      "execution_count": 93,
      "outputs": [
        {
          "output_type": "stream",
          "name": "stdout",
          "text": [
            "Original array: [1 2 3]\n",
            "Original array byte order: =\n",
            "Swapped array: [1 2 3]\n",
            "Swapped array byte order: =\n"
          ]
        }
      ]
    },
    {
      "cell_type": "code",
      "source": [
        "# Create a NumPy array `arr1` with values from 1 to 10. Create a copy of `arr1` named `copy_arr` and modify an element in `copy_arr`. Check if modifying `copy_arr` affects `arr1`.\n",
        "arr = np.arange(1, 10+1)\n",
        "arr_copy = arr.copy()\n",
        "arr_copy[2] = 100\n",
        "print(arr, arr_copy)"
      ],
      "metadata": {
        "colab": {
          "base_uri": "https://localhost:8080/"
        },
        "id": "bl8LVBQI8uOi",
        "outputId": "3d164aa8-c25f-4909-ebd0-cb09b6a7a964"
      },
      "execution_count": 123,
      "outputs": [
        {
          "output_type": "stream",
          "name": "stdout",
          "text": [
            "[ 1  2  3  4  5  6  7  8  9 10] [  1   2 100   4   5   6   7   8   9  10]\n"
          ]
        }
      ]
    },
    {
      "cell_type": "code",
      "source": [
        "#Create a 2D NumPy array `matrix` of shape (3, 3) with random integers. Extract a slice `view_slice` from the matrix. Modify an element in `view_slice` and observe if it changes the original `matrix`.\n",
        "\n",
        "arr = np.matrix(np.reshape(np.arange(1, 10), (3,3)))\n",
        "view_slice = arr[2:]\n",
        "view_slice[0,1] = 11\n",
        "print(arr, view_slice)"
      ],
      "metadata": {
        "colab": {
          "base_uri": "https://localhost:8080/"
        },
        "id": "qy1RbJKs83AR",
        "outputId": "19897839-c191-40f9-94fe-8dbe2b60f35c"
      },
      "execution_count": 124,
      "outputs": [
        {
          "output_type": "stream",
          "name": "stdout",
          "text": [
            "[[ 1  2  3]\n",
            " [ 4  5  6]\n",
            " [ 7 11  9]] [[ 7 11  9]]\n"
          ]
        }
      ]
    },
    {
      "cell_type": "code",
      "source": [
        "# Create a NumPy array `array_a` of shape (4, 3) with sequential integers from 1 to 12. Extract a slice `view_b` from `array_a` and broadcast the addition of 5 to view_b. Check if it alters the original `array_a`.\n",
        "array_a = np.arange(1, 13).reshape(4, 3)\n",
        "view_b = array_a[2:]\n",
        "view_b = view_b + 5\n",
        "print(array_a)\n",
        "print(view_b)"
      ],
      "metadata": {
        "colab": {
          "base_uri": "https://localhost:8080/"
        },
        "id": "7sxxvgy7_Z5v",
        "outputId": "47d57750-9e7b-46a0-d46b-7fee081a4dba"
      },
      "execution_count": 137,
      "outputs": [
        {
          "output_type": "stream",
          "name": "stdout",
          "text": [
            "[[ 1  2  3]\n",
            " [ 4  5  6]\n",
            " [ 7  8  9]\n",
            " [10 11 12]]\n",
            "[[12 13 14]\n",
            " [15 16 17]]\n"
          ]
        }
      ]
    },
    {
      "cell_type": "code",
      "source": [
        "# Create a NumPy array `orig_array` of shape (2, 4) with values from 1 to 8. Create a reshaped view `reshaped_view` of shape (4, 2) from orig_array. Modify an element in `reshaped_view` and check if it reflects changes in the original `orig_array`.\n",
        "orig_array = np.arange(1, 9).reshape(2, 4)\n",
        "reshaped_view = orig_array.reshape(4, 2)\n",
        "reshaped_view[2,1] = 10\n",
        "print(orig_array, reshaped_view)"
      ],
      "metadata": {
        "colab": {
          "base_uri": "https://localhost:8080/"
        },
        "id": "L6vR1aZvA7Ih",
        "outputId": "01619d74-1465-4646-9095-93cbdc9dd982"
      },
      "execution_count": 143,
      "outputs": [
        {
          "output_type": "stream",
          "name": "stdout",
          "text": [
            "[[ 1  2  3  4]\n",
            " [ 5 10  7  8]] [[ 1  2]\n",
            " [ 3  4]\n",
            " [ 5 10]\n",
            " [ 7  8]]\n"
          ]
        }
      ]
    },
    {
      "cell_type": "code",
      "source": [
        "#Create a NumPy array `data` of shape (3, 4) with random integers. Extract a copy `data_copy` of elements greater than 5. Modify an element in `data_copy` and verify if it affects the original `data`.\n",
        "\n",
        "data = np.arange(1, 13).reshape(3, 4)\n",
        "data_copy = data.copy()\n",
        "data_copy[data_copy > 5] = 10\n",
        "print(data, data_copy)"
      ],
      "metadata": {
        "colab": {
          "base_uri": "https://localhost:8080/"
        },
        "id": "yWACHx4RBn-E",
        "outputId": "1a98febf-8058-47a7-ec88-d09bea2ee5be"
      },
      "execution_count": 147,
      "outputs": [
        {
          "output_type": "stream",
          "name": "stdout",
          "text": [
            "[[ 1  2  3  4]\n",
            " [ 5  6  7  8]\n",
            " [ 9 10 11 12]] [[ 1  2  3  4]\n",
            " [ 5 10 10 10]\n",
            " [10 10 10 10]]\n"
          ]
        }
      ]
    },
    {
      "cell_type": "code",
      "source": [
        "#Create two matrices A and B of identical shape containing integers and perform addition and subtraction operations between them.\n",
        "\n",
        "arr = np.matrix(np.reshape(np.arange(1, 10), (3,3)))\n",
        "arr1 = np.matrix(np.reshape(np.arange(31, 40), (3,3)))\n",
        "print(arr + arr1)\n",
        "print(arr1 - arr)"
      ],
      "metadata": {
        "colab": {
          "base_uri": "https://localhost:8080/"
        },
        "id": "r4xKL6mqB0H8",
        "outputId": "65860276-c243-41e0-d737-7e8f8ea736c0"
      },
      "execution_count": 157,
      "outputs": [
        {
          "output_type": "stream",
          "name": "stdout",
          "text": [
            "[[32 34 36]\n",
            " [38 40 42]\n",
            " [44 46 48]]\n",
            "[[30 30 30]\n",
            " [30 30 30]\n",
            " [30 30 30]]\n"
          ]
        }
      ]
    },
    {
      "cell_type": "code",
      "source": [
        "#Generate two matrices `C` (3x2) and `D` (2x4) and perform matrix multiplication.\n",
        "c = np.matrix(np.reshape(np.arange(1, 7), (3,2)))\n",
        "d = np.matrix(np.reshape(np.arange(31, 39), (2,4)))\n",
        "c * d"
      ],
      "metadata": {
        "colab": {
          "base_uri": "https://localhost:8080/"
        },
        "id": "6VAv8HU8Cwck",
        "outputId": "59970ab8-146a-4897-9859-f222ae4af97d"
      },
      "execution_count": 167,
      "outputs": [
        {
          "output_type": "execute_result",
          "data": {
            "text/plain": [
              "matrix([[101, 104, 107, 110],\n",
              "        [233, 240, 247, 254],\n",
              "        [365, 376, 387, 398]])"
            ]
          },
          "metadata": {},
          "execution_count": 167
        }
      ]
    },
    {
      "cell_type": "code",
      "source": [
        "#Create a matrix `E` and find its transpose.\n",
        "\n",
        "c = np.matrix(np.reshape(np.arange(1, 7), (3,2)))\n",
        "c.T"
      ],
      "metadata": {
        "colab": {
          "base_uri": "https://localhost:8080/"
        },
        "id": "_uXq2X1QDrgD",
        "outputId": "cd36e419-1326-4b68-b5ef-fb76186580d8"
      },
      "execution_count": 168,
      "outputs": [
        {
          "output_type": "execute_result",
          "data": {
            "text/plain": [
              "matrix([[1, 3, 5],\n",
              "        [2, 4, 6]])"
            ]
          },
          "metadata": {},
          "execution_count": 168
        }
      ]
    },
    {
      "cell_type": "code",
      "source": [
        "#Generate a square matrix `F` and compute its determinant.\n",
        "F = np.random.randint(1, 10, (3, 3))\n",
        "np.linalg.det(F)"
      ],
      "metadata": {
        "colab": {
          "base_uri": "https://localhost:8080/"
        },
        "id": "o4a1o9LRFPYB",
        "outputId": "2aee8551-e43c-4398-fa6d-0d8a79bc34d6"
      },
      "execution_count": 175,
      "outputs": [
        {
          "output_type": "execute_result",
          "data": {
            "text/plain": [
              "-26.000000000000004"
            ]
          },
          "metadata": {},
          "execution_count": 175
        }
      ]
    },
    {
      "cell_type": "code",
      "source": [
        "#Create a square matrix `G` and find its inverse.\n",
        "\n",
        "G = np.random.randint(1, 10, (3, 3))\n",
        "np.linalg.inv(G)"
      ],
      "metadata": {
        "colab": {
          "base_uri": "https://localhost:8080/"
        },
        "id": "ADaRkd-IIHf3",
        "outputId": "5106070c-afc7-43aa-851e-0a156222f99f"
      },
      "execution_count": 176,
      "outputs": [
        {
          "output_type": "execute_result",
          "data": {
            "text/plain": [
              "array([[ 0.30434783,  0.47826087, -0.91304348],\n",
              "       [-0.34782609, -1.26086957,  2.04347826],\n",
              "       [ 0.17391304,  1.13043478, -1.52173913]])"
            ]
          },
          "metadata": {},
          "execution_count": 176
        }
      ]
    },
    {
      "cell_type": "code",
      "source": [],
      "metadata": {
        "id": "LHXavAEuIYZ-"
      },
      "execution_count": null,
      "outputs": []
    }
  ]
}