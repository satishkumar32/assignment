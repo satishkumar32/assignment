{
  "nbformat": 4,
  "nbformat_minor": 0,
  "metadata": {
    "colab": {
      "provenance": [],
      "authorship_tag": "ABX9TyPZE0mfEHZNVasYpZAcgx+4",
      "include_colab_link": true
    },
    "kernelspec": {
      "name": "python3",
      "display_name": "Python 3"
    },
    "language_info": {
      "name": "python"
    }
  },
  "cells": [
    {
      "cell_type": "markdown",
      "metadata": {
        "id": "view-in-github",
        "colab_type": "text"
      },
      "source": [
        "<a href=\"https://colab.research.google.com/github/satishkumar32/assignment/blob/main/Function_and_OOPS.ipynb\" target=\"_parent\"><img src=\"https://colab.research.google.com/assets/colab-badge.svg\" alt=\"Open In Colab\"/></a>"
      ]
    },
    {
      "cell_type": "code",
      "execution_count": null,
      "metadata": {
        "id": "gKX3uWu7ledk"
      },
      "outputs": [],
      "source": [
        "#Explain the importance of Functions\n",
        "\n",
        "If we need a same block of code need to repeat multiple time instead of writing it multiple time we can use function in that we can write the code and just call the function"
      ]
    },
    {
      "cell_type": "code",
      "source": [
        "#Write a basic function to greet students\n",
        "\n",
        "def greet_student(name):\n",
        "    print(f\"Hello, {name} Welcome to the class.\")\n",
        "\n",
        "greet_student(\"pwskills\")\n"
      ],
      "metadata": {
        "colab": {
          "base_uri": "https://localhost:8080/"
        },
        "id": "21GQ2793Fb7p",
        "outputId": "6ae76d9e-caa5-4d7c-8c3f-40b5c74e0a45"
      },
      "execution_count": null,
      "outputs": [
        {
          "output_type": "stream",
          "name": "stdout",
          "text": [
            "Hello, pwskills Welcome to the class.\n"
          ]
        }
      ]
    },
    {
      "cell_type": "code",
      "source": [
        "#What is the difference between print and return statements\n",
        "\n",
        "in print it just display what is the data or information, like if give 2+3 then it will print 2+3 but where as in return it will add that give the result as 5 and break the function"
      ],
      "metadata": {
        "id": "wdhrWBPlF_AH"
      },
      "execution_count": null,
      "outputs": []
    },
    {
      "cell_type": "code",
      "source": [
        "#What are *args and **kwargs\n",
        "\n",
        "*args allows a function to accept any number of positional arguments and the **kwargs allows a function to accept any number of keyword arguments"
      ],
      "metadata": {
        "id": "w-BIT59xG813"
      },
      "execution_count": null,
      "outputs": []
    },
    {
      "cell_type": "code",
      "source": [
        "#Explain the iterator function\n",
        "\n",
        "An iterator in Python is an object that allows you to go through all the elements of a collection such as a list or tuple"
      ],
      "metadata": {
        "id": "kZ_1dIBcHW4F"
      },
      "execution_count": null,
      "outputs": []
    },
    {
      "cell_type": "code",
      "source": [
        "#Write a code that generates the squares of numbers from 1 to n using a generator\n",
        "def square_num(n):\n",
        "  for N in range(1 , n+1):\n",
        "    yield N*N\n",
        "\n",
        "reslt = square_num(5)\n",
        "\n",
        "for square in reslt:\n",
        "    print(square)\n"
      ],
      "metadata": {
        "colab": {
          "base_uri": "https://localhost:8080/"
        },
        "id": "-z1CkBOWoRLT",
        "outputId": "2c82ddbb-ae43-4801-a614-d361d0858393"
      },
      "execution_count": null,
      "outputs": [
        {
          "output_type": "stream",
          "name": "stdout",
          "text": [
            "1\n",
            "4\n",
            "9\n",
            "16\n",
            "25\n"
          ]
        }
      ]
    },
    {
      "cell_type": "code",
      "source": [
        "#Write a code that generates palindromic numbers up to n using a generator\n",
        "\n",
        "def generate_palindromic_numbers(n):\n",
        "    for i in range(1, n + 1):\n",
        "        if str(i) == str(i)[::-1]:\n",
        "            yield i\n",
        "\n",
        "palindromic_generator = generate_palindromic_numbers(100)\n",
        "\n",
        "\n",
        "for number in palindromic_generator:\n",
        "    print(number)"
      ],
      "metadata": {
        "colab": {
          "base_uri": "https://localhost:8080/"
        },
        "id": "9KANIs4xoylV",
        "outputId": "9477e415-2d96-4707-b460-b45c6397995b"
      },
      "execution_count": null,
      "outputs": [
        {
          "output_type": "stream",
          "name": "stdout",
          "text": [
            "1\n",
            "2\n",
            "3\n",
            "4\n",
            "5\n",
            "6\n",
            "7\n",
            "8\n",
            "9\n",
            "11\n",
            "22\n",
            "33\n",
            "44\n",
            "55\n",
            "66\n",
            "77\n",
            "88\n",
            "99\n"
          ]
        }
      ]
    },
    {
      "cell_type": "code",
      "source": [
        "# Write a code that generates even numbers from 2 to n using a generator\n",
        "\n",
        "def even_num(n):\n",
        "  for N in range(2 , n+1, 2):\n",
        "    yield N\n",
        "\n",
        "reslt = even_num(10)\n",
        "\n",
        "for even in reslt:\n",
        "    print(even)"
      ],
      "metadata": {
        "colab": {
          "base_uri": "https://localhost:8080/"
        },
        "id": "j3lJ5bW4qHMZ",
        "outputId": "386bf9a0-9e51-4e9b-ab13-1943846b06a0"
      },
      "execution_count": null,
      "outputs": [
        {
          "output_type": "stream",
          "name": "stdout",
          "text": [
            "2\n",
            "4\n",
            "6\n",
            "8\n",
            "10\n"
          ]
        }
      ]
    },
    {
      "cell_type": "code",
      "source": [
        "#Write a code that generates powers of two up to n using a generator\n",
        "\n",
        "def power_of_two(n):\n",
        "  for N in range(1, n+1):\n",
        "    yield 2 ** N\n",
        "\n",
        "reslt = power_of_two(10)\n",
        "\n",
        "for power in reslt:\n",
        "    print(power)"
      ],
      "metadata": {
        "colab": {
          "base_uri": "https://localhost:8080/"
        },
        "id": "rB15AE1Bq6Fp",
        "outputId": "4dcb5c7a-a865-485a-fc21-7ff3a5e8c31b"
      },
      "execution_count": null,
      "outputs": [
        {
          "output_type": "stream",
          "name": "stdout",
          "text": [
            "2\n",
            "4\n",
            "8\n",
            "16\n",
            "32\n",
            "64\n",
            "128\n",
            "256\n",
            "512\n",
            "1024\n"
          ]
        }
      ]
    },
    {
      "cell_type": "code",
      "source": [
        "#Write a code that generates prime numbers up to n using a generator\n",
        "def is_prime(n):\n",
        "  if n <= 1:\n",
        "    return False\n",
        "  for i in range(2, int(n**0.5) + 1):\n",
        "    if n % i == 0:\n",
        "      return False\n",
        "  return True\n",
        "\n",
        "def prime_numbers(n):\n",
        "  for num in range(2, n + 1):\n",
        "    if is_prime(num):\n",
        "      yield num\n",
        "\n",
        "reslt = prime_numbers(100)\n",
        "\n",
        "\n",
        "for prime in reslt:\n",
        "  print(prime)\n"
      ],
      "metadata": {
        "colab": {
          "base_uri": "https://localhost:8080/"
        },
        "id": "VKGSjCacrOvw",
        "outputId": "6a301f50-6e27-4fac-f79b-8cdc19fdec3f"
      },
      "execution_count": null,
      "outputs": [
        {
          "output_type": "stream",
          "name": "stdout",
          "text": [
            "2\n",
            "3\n",
            "5\n",
            "7\n",
            "11\n",
            "13\n",
            "17\n",
            "19\n",
            "23\n",
            "29\n",
            "31\n",
            "37\n",
            "41\n",
            "43\n",
            "47\n",
            "53\n",
            "59\n",
            "61\n",
            "67\n",
            "71\n",
            "73\n",
            "79\n",
            "83\n",
            "89\n",
            "97\n"
          ]
        }
      ]
    },
    {
      "cell_type": "code",
      "source": [
        "#Write a code that uses a lambda function to calculate the sum of two numbers\n",
        "sum_lambda = lambda x, y: x + y\n",
        "\n",
        "result = sum_lambda(5, 10)\n",
        "print(result)"
      ],
      "metadata": {
        "colab": {
          "base_uri": "https://localhost:8080/"
        },
        "id": "-GSDVlTKsUVR",
        "outputId": "d22b22c5-32a7-43c7-ed27-9d54159121c7"
      },
      "execution_count": null,
      "outputs": [
        {
          "output_type": "stream",
          "name": "stdout",
          "text": [
            "15\n"
          ]
        }
      ]
    },
    {
      "cell_type": "code",
      "source": [
        "#Write a code that uses a lambda function to calculate the square of a given number\n",
        "squar_lambda = lambda x: x ** 2\n",
        "\n",
        "result = squar_lambda(5)\n",
        "print(result)"
      ],
      "metadata": {
        "colab": {
          "base_uri": "https://localhost:8080/"
        },
        "id": "4WoLxbWYunY3",
        "outputId": "5e369d0b-970a-4bb9-bf7b-c92dad2827b9"
      },
      "execution_count": null,
      "outputs": [
        {
          "output_type": "stream",
          "name": "stdout",
          "text": [
            "25\n"
          ]
        }
      ]
    },
    {
      "cell_type": "code",
      "source": [
        "# Write a code that uses a lambda function to check whether a given number is even or odd\n",
        "checks = lambda x: 'Even' if x % 2 == 0 else 'Odd'\n",
        "\n",
        "result = checks(11)\n",
        "print(result)"
      ],
      "metadata": {
        "colab": {
          "base_uri": "https://localhost:8080/"
        },
        "id": "1iTo6c_0vVP-",
        "outputId": "b6d607f9-f77b-44bd-d198-9c97b9808f46"
      },
      "execution_count": null,
      "outputs": [
        {
          "output_type": "stream",
          "name": "stdout",
          "text": [
            "Odd\n"
          ]
        }
      ]
    },
    {
      "cell_type": "code",
      "source": [
        "#Write a code that uses a lambda function to concatenate two strings\n",
        "\n",
        "str_cont = lambda x, y : x+y\n",
        "\n",
        "result = str_cont('pw', \"skills\")\n",
        "print(result)"
      ],
      "metadata": {
        "colab": {
          "base_uri": "https://localhost:8080/"
        },
        "id": "KU9uFEssvvSd",
        "outputId": "19d407b8-9818-46b3-d5ea-5d2dfcd0bd00"
      },
      "execution_count": null,
      "outputs": [
        {
          "output_type": "stream",
          "name": "stdout",
          "text": [
            "pwskills\n"
          ]
        }
      ]
    },
    {
      "cell_type": "code",
      "source": [
        "# Write a code that uses a lambda function to find the maximum of three given numbers\n",
        "find_max = lambda x,y,z : max(x,y,z)\n",
        "\n",
        "result = find_max(12,14,10)\n",
        "print(result)"
      ],
      "metadata": {
        "colab": {
          "base_uri": "https://localhost:8080/"
        },
        "id": "BsC5LDh9wI81",
        "outputId": "9e894006-60fd-4141-9e0c-8610dc187aeb"
      },
      "execution_count": null,
      "outputs": [
        {
          "output_type": "stream",
          "name": "stdout",
          "text": [
            "14\n"
          ]
        }
      ]
    },
    {
      "cell_type": "code",
      "source": [
        "# Write a code that generates the squares of even numbers from a given list\n",
        "def even_squar(n):\n",
        "    for N in n:\n",
        "      if N%2 == 0:\n",
        "        yield N*2\n",
        "      else:\n",
        "        pass\n",
        "result = even_squar([12,14,11])\n",
        "for res in result:\n",
        "  print(res)"
      ],
      "metadata": {
        "colab": {
          "base_uri": "https://localhost:8080/"
        },
        "id": "6slMNk1ww3Q1",
        "outputId": "35ddba4b-842d-4697-d78f-4dc4644d6d43"
      },
      "execution_count": null,
      "outputs": [
        {
          "output_type": "stream",
          "name": "stdout",
          "text": [
            "24\n",
            "28\n"
          ]
        }
      ]
    },
    {
      "cell_type": "code",
      "source": [
        "#Write a code that calculates the product of positive numbers from a given list\n",
        "\n",
        "def product_of_positive_numbers(numbers):\n",
        "    product = 1\n",
        "    for num in numbers:\n",
        "        if num > 0:\n",
        "            product *= num\n",
        "    return product\n",
        "\n",
        "result = product_of_positive_numbers([1, 2, 3, 4, 5, -6, 7, 8, -9, 10])\n",
        "print(result)"
      ],
      "metadata": {
        "id": "89TSKH8wxZLF",
        "colab": {
          "base_uri": "https://localhost:8080/"
        },
        "outputId": "5b10f290-b87d-4159-9fef-a54ad749c8e4"
      },
      "execution_count": null,
      "outputs": [
        {
          "output_type": "stream",
          "name": "stdout",
          "text": [
            "67200\n"
          ]
        }
      ]
    },
    {
      "cell_type": "code",
      "source": [
        "# prompt: Write a code that doubles the values of odd numbers from a given list\n",
        "\n",
        "def double_odd_values(numbers):\n",
        "    ls = []\n",
        "    for i in numbers:\n",
        "        if i % 2 != 0:\n",
        "           ls.append( i*2)\n",
        "        else:\n",
        "          pass\n",
        "    return ls\n",
        "\n",
        "double_odd_values([1, 2, 3, 4, 5, 6, 7, 8, 9, 10])\n"
      ],
      "metadata": {
        "colab": {
          "base_uri": "https://localhost:8080/"
        },
        "id": "QkuQeXOfz46H",
        "outputId": "81a3b8fa-83d4-4dab-f06d-5374a047234b"
      },
      "execution_count": null,
      "outputs": [
        {
          "output_type": "execute_result",
          "data": {
            "text/plain": [
              "[2, 6, 10, 14, 18]"
            ]
          },
          "metadata": {},
          "execution_count": 51
        }
      ]
    },
    {
      "cell_type": "code",
      "source": [
        "#Write a code that calculates the sum of cubes of numbers from a given list\n",
        "def sum_cube(n):\n",
        "   total = 0\n",
        "   for num in n:\n",
        "      total += num ** 3\n",
        "   return total\n",
        "\n",
        "\n",
        "sum_cube([1, 2, 3, 4, 5, 6, 7, 8, 9, 10])"
      ],
      "metadata": {
        "colab": {
          "base_uri": "https://localhost:8080/"
        },
        "id": "oFPpBSu91Lav",
        "outputId": "e56f2852-b982-4927-dfeb-42512ba540fd"
      },
      "execution_count": null,
      "outputs": [
        {
          "output_type": "execute_result",
          "data": {
            "text/plain": [
              "3025"
            ]
          },
          "metadata": {},
          "execution_count": 55
        }
      ]
    },
    {
      "cell_type": "code",
      "source": [
        "#Write a code that filters out prime numbers from a given list\n",
        "def is_prime(n):\n",
        "  if n <= 1:\n",
        "    return False\n",
        "  for i in range(2, int(n**0.5) + 1):\n",
        "    if n % i == 0:\n",
        "      return False\n",
        "  return True\n",
        "\n",
        "def prime_numbers(n):\n",
        "  for num in n:\n",
        "    if is_prime(num):\n",
        "      yield num\n",
        "\n",
        "reslt = prime_numbers([10,20,51,13,59])\n",
        "\n",
        "\n",
        "for prime in reslt:\n",
        "  print(prime)"
      ],
      "metadata": {
        "colab": {
          "base_uri": "https://localhost:8080/"
        },
        "id": "nGs7NHI_0-uP",
        "outputId": "9e004f45-a285-400e-e385-69a1467c6d9e"
      },
      "execution_count": null,
      "outputs": [
        {
          "output_type": "stream",
          "name": "stdout",
          "text": [
            "13\n",
            "59\n"
          ]
        }
      ]
    },
    {
      "cell_type": "code",
      "source": [
        "#What is encapsulation in OOP\n",
        "\n",
        "Encapsulation in OOP is the concept of having attributes and methods into a single unit called a class"
      ],
      "metadata": {
        "id": "5UuYYZaB2Sxu"
      },
      "execution_count": null,
      "outputs": []
    },
    {
      "cell_type": "code",
      "source": [
        "#Explain the use of access modifiers in Python classes\n",
        "Access modifiers in Python are protecting a class internal state\n",
        "\n",
        "Public: Accessible from anywhere\n",
        "\n",
        "Protected : Prefixed with a single underscore. it can be access within the class and are also available to its sub-classes.\n",
        "\n",
        "Private : Prefixed with a double underscore. only accessible from within the class."
      ],
      "metadata": {
        "id": "k2D-Ulhz4xdN"
      },
      "execution_count": null,
      "outputs": []
    },
    {
      "cell_type": "code",
      "source": [
        "# What is inheritance in OOP\n",
        "\n",
        "Inheritance in the OOP that allows a class to inherit attributes and methods from another class"
      ],
      "metadata": {
        "id": "oxsHO57t-f8h"
      },
      "execution_count": null,
      "outputs": []
    },
    {
      "cell_type": "code",
      "source": [
        "# Define polymorphism in OOP\n",
        "\n",
        "same method name can be used for differnt class"
      ],
      "metadata": {
        "id": "7Y-TNVQq_Anh"
      },
      "execution_count": null,
      "outputs": []
    },
    {
      "cell_type": "code",
      "source": [
        "# Explain method overriding in Python\n",
        "\n",
        "overriding occurs when two methods have the same method name and parameters in the both subclass as well as the superclass"
      ],
      "metadata": {
        "id": "n5nXsA72_Ech"
      },
      "execution_count": null,
      "outputs": []
    },
    {
      "cell_type": "code",
      "source": [
        "#Define a parent class Animal with a method make_sound that prints \"Generic animal sound\". Create a child class Dog inheriting from Animal with a method make_sound that prints \"Woof!\"\n",
        "class Animal:\n",
        "    def make_sound(self):\n",
        "        print(\"Generic animal sound\")\n",
        "\n",
        "class Dog(Animal):\n",
        "    def make_sound(self):\n",
        "        print(\"Woof!\")\n",
        "\n",
        "animal = Animal()\n",
        "animal.make_sound()\n",
        "\n",
        "dog = Dog()\n",
        "dog.make_sound()\n"
      ],
      "metadata": {
        "colab": {
          "base_uri": "https://localhost:8080/"
        },
        "id": "xaaN1HVeBIRY",
        "outputId": "27908424-d0e8-4466-943b-3ada7cea4f3e"
      },
      "execution_count": null,
      "outputs": [
        {
          "output_type": "stream",
          "name": "stdout",
          "text": [
            "Generic animal sound\n",
            "Woof!\n"
          ]
        }
      ]
    },
    {
      "cell_type": "code",
      "source": [
        "#Define a method move in the Animal class that prints \"Animal moves\". Override the move method in the Dog class to print \"Dog runs.\"\n",
        "\n",
        "class Animal:\n",
        "    def move(self):\n",
        "        print(\"Animal moves\")\n",
        "\n",
        "class Dog(Animal):\n",
        "    def move(self):\n",
        "        print(\"Dog runs\")\n",
        "\n",
        "animal = Animal()\n",
        "animal.move()\n",
        "\n",
        "dog = Dog()\n",
        "dog.move()"
      ],
      "metadata": {
        "colab": {
          "base_uri": "https://localhost:8080/"
        },
        "id": "42HZwpTzBk-o",
        "outputId": "26f0685b-62b6-431c-ed12-3f9b785ed3fa"
      },
      "execution_count": null,
      "outputs": [
        {
          "output_type": "stream",
          "name": "stdout",
          "text": [
            "Animal moves\n",
            "Dog runs\n"
          ]
        }
      ]
    },
    {
      "cell_type": "code",
      "source": [
        "#Create a class Mammal with a method reproduce that prints \"Giving birth to live young.\" Create a class DogMammal inheriting from both Dog and Mammal\n",
        "\n",
        "class Dog:\n",
        "    def make_sound(self):\n",
        "        print(\"Woof!\")\n",
        "\n",
        "class Mammal:\n",
        "  def reproduce(self):\n",
        "    print(\"Giving birth to live young.\")\n",
        "\n",
        "class DogMammal(Dog , Mammal):\n",
        "    print(\"inheriting from both Dog and Mammal\")\n",
        "\n",
        "dog_mammal = DogMammal()\n",
        "dog_mammal.make_sound()\n",
        "dog_mammal.reproduce()"
      ],
      "metadata": {
        "id": "mumED9EeCS_Q",
        "colab": {
          "base_uri": "https://localhost:8080/"
        },
        "outputId": "a013cba6-e68e-4074-c154-6d4e1fe15e76"
      },
      "execution_count": null,
      "outputs": [
        {
          "output_type": "stream",
          "name": "stdout",
          "text": [
            "inheriting from both Dog and Mammal\n",
            "Woof!\n",
            "Giving birth to live young.\n"
          ]
        }
      ]
    },
    {
      "cell_type": "code",
      "source": [
        "#Create a class GermanShepherd inheriting from Dog and override the make_sound method to print \"Bark!\n",
        "\n",
        "class Dog:\n",
        "    def make_sound(self):\n",
        "        print(\"Woof!\")\n",
        "\n",
        "class GermanShepherd(Dog):\n",
        "   def make_sound(self):\n",
        "        print(\"Bark!\")\n",
        "\n",
        "german_shepherd = GermanShepherd()\n",
        "german_shepherd.make_sound()"
      ],
      "metadata": {
        "colab": {
          "base_uri": "https://localhost:8080/"
        },
        "id": "GbbseCqxytdI",
        "outputId": "c5c94c74-ea3b-4bec-9f5e-584c3ce636d3"
      },
      "execution_count": null,
      "outputs": [
        {
          "output_type": "stream",
          "name": "stdout",
          "text": [
            "Bark!\n"
          ]
        }
      ]
    },
    {
      "cell_type": "code",
      "source": [
        "#Define constructors in both the Animal and Dog classes with different initialization parameters\n",
        "\n",
        "class Animal:\n",
        "    def __init__(self, species):\n",
        "        self.species = species\n",
        "        print(self.species)\n",
        "\n",
        "    def make_sound(self):\n",
        "        print(\"Generic animal sound\")\n",
        "\n",
        "class Dog(Animal):\n",
        "    def __init__(self, species, breed):\n",
        "        super().__init__(species)\n",
        "        self.breed = breed\n",
        "        print(self.breed)\n",
        "\n",
        "    def make_sound(self):\n",
        "        print(\"Woof!\")\n",
        "\n",
        "animal = Animal(\"Mammal\")\n",
        "dog = Dog(\"Mammal\", \"German Shepherd\")\n"
      ],
      "metadata": {
        "colab": {
          "base_uri": "https://localhost:8080/"
        },
        "id": "CiXn6ukZzEaQ",
        "outputId": "8ca359bb-b764-4082-b73d-1a6ecbd3408e"
      },
      "execution_count": null,
      "outputs": [
        {
          "output_type": "stream",
          "name": "stdout",
          "text": [
            "Mammal\n",
            "Mammal\n",
            "German Shepherd\n"
          ]
        }
      ]
    },
    {
      "cell_type": "code",
      "source": [
        "#What is abstraction in Python? How is it implemented?\n",
        "\n",
        "Abstraction in Python is a way to hide implementation details and expose only the necessary functionalities. It is implemented using abstract classes and methods, which can be created using the abc module"
      ],
      "metadata": {
        "id": "rQvFcQ-V0XdE"
      },
      "execution_count": null,
      "outputs": []
    },
    {
      "cell_type": "code",
      "source": [
        "#Explain the importance of abstraction in object-oriented programming\n",
        "\n",
        "Abstraction is the reusability of code and the elimination of redundancy and duplication and also it helps developers increase their development speed and ease."
      ],
      "metadata": {
        "id": "YfGlg6VsKsvR"
      },
      "execution_count": null,
      "outputs": []
    },
    {
      "cell_type": "code",
      "source": [
        " #How are abstract methods different from regular methods in Python\n",
        "\n",
        "Abstract methods are used to define a common interface and ensure that subclasses provide specific implementations. They are defined using the @abstractmethod decorator in an abstract class."
      ],
      "metadata": {
        "id": "aAy-i8mDLjtg"
      },
      "execution_count": null,
      "outputs": []
    },
    {
      "cell_type": "code",
      "source": [
        "#How can you achieve abstraction using interfaces in Python\n",
        "\n",
        "Abstraction can be achieved using interfaces, which are defined using abstract base classes ABC with abstract methods"
      ],
      "metadata": {
        "id": "NEIJfgK7L5GH"
      },
      "execution_count": null,
      "outputs": []
    },
    {
      "cell_type": "code",
      "source": [
        "#Can you provide an example of how abstraction can be utilized to create a common interface for a group of related classes in Python\n",
        "\n",
        "from abc import ABC, abstractmethod\n",
        "\n",
        "class Vehicle(ABC):\n",
        "    @abstractmethod\n",
        "    def start_engine(self):\n",
        "        pass\n",
        "\n",
        "    @abstractmethod\n",
        "    def stop_engine(self):\n",
        "        pass\n",
        "\n",
        "class Car(Vehicle):\n",
        "    def start_engine(self):\n",
        "        print(\"Starting the car engine...\")\n",
        "\n",
        "    def stop_engine(self):\n",
        "        print(\"Stopping the car engine...\")\n",
        "\n",
        "\n",
        "class Truck(Vehicle):\n",
        "    def start_engine(self):\n",
        "        print(\"Starting the truck engine...\")\n",
        "\n",
        "    def stop_engine(self):\n",
        "        print(\"Stopping the truck engine...\")\n",
        "\n",
        "\n",
        "\n",
        "car = Car()\n",
        "truck = Truck()\n",
        "\n",
        "car.stop_engine()\n"
      ],
      "metadata": {
        "colab": {
          "base_uri": "https://localhost:8080/"
        },
        "id": "_MkGRxiGKbbb",
        "outputId": "11bef9dd-fbce-4da3-cb2c-220637342af4"
      },
      "execution_count": null,
      "outputs": [
        {
          "output_type": "stream",
          "name": "stdout",
          "text": [
            "Stopping the car engine...\n"
          ]
        }
      ]
    },
    {
      "cell_type": "code",
      "source": [
        "# How does Python achieve polymorphism through method overriding\n",
        "\n",
        "Polymorphism is achieved through method overriding, where a subclass provides a method that is defined in its superclass. This allows the same method name to have different behaviors"
      ],
      "metadata": {
        "id": "doUmCB3tLPz6"
      },
      "execution_count": null,
      "outputs": []
    },
    {
      "cell_type": "code",
      "source": [
        "#Define a base class with a method and a subclass that overrides the method\n",
        "\n",
        "class Animal:\n",
        "    def move(self):\n",
        "        print(\"Animal moves\")\n",
        "\n",
        "class Dog(Animal):\n",
        "    def move(self):\n",
        "        print(\"Dog runs\")\n",
        "\n",
        "animal = Animal()\n",
        "animal.move()\n",
        "\n",
        "dog = Dog()\n",
        "dog.move()\n",
        "\n"
      ],
      "metadata": {
        "colab": {
          "base_uri": "https://localhost:8080/"
        },
        "id": "298MECzrLDCc",
        "outputId": "89f7d7a4-ac8f-4c79-ae36-cf46a442b6f9"
      },
      "execution_count": null,
      "outputs": [
        {
          "output_type": "stream",
          "name": "stdout",
          "text": [
            "Animal moves\n",
            "Dog runs\n"
          ]
        }
      ]
    },
    {
      "cell_type": "code",
      "source": [
        "# Define a base class and multiple subclasses with overridden methods\n",
        "\n",
        "class Animal:\n",
        "    def move(self):\n",
        "        print(\"Animal moves\")\n",
        "\n",
        "class Dog(Animal):\n",
        "    def move(self):\n",
        "        print(\"Dog runs\")\n",
        "\n",
        "class Cat(Animal):\n",
        "    def move(self):\n",
        "        print(\"Cat runs\")\n",
        "\n",
        "animal = Animal()\n",
        "animal.move()\n",
        "\n",
        "dog = Dog()\n",
        "dog.move()\n",
        "\n",
        "cat = Cat()\n",
        "cat.move()"
      ],
      "metadata": {
        "colab": {
          "base_uri": "https://localhost:8080/"
        },
        "id": "7__hg0f8M3Ta",
        "outputId": "82a1673a-706f-44ef-8f72-3ac6ddf25d20"
      },
      "execution_count": null,
      "outputs": [
        {
          "output_type": "stream",
          "name": "stdout",
          "text": [
            "Animal moves\n",
            "Dog runs\n",
            "Cat runs\n"
          ]
        }
      ]
    },
    {
      "cell_type": "code",
      "source": [
        "# How does polymorphism improve code readability and reusability\n",
        "\n",
        "Polymorphism allows different classes to be treated through a common interface, making the code easier to understand and maintain. By calling the same method on different objects and new classes can be added with specific implementations without modify existing code, promoting reusability"
      ],
      "metadata": {
        "id": "bVCOPg5yNFFC"
      },
      "execution_count": null,
      "outputs": []
    },
    {
      "cell_type": "code",
      "source": [
        "#How do you achieve encapsulation in Python\n",
        "\n",
        "Encapsulation is achieved by declaring a class data like attributes and methods as private or protected they can be define by single '_' or double '__' underscores"
      ],
      "metadata": {
        "id": "O8L-PMh8OuPH"
      },
      "execution_count": null,
      "outputs": []
    },
    {
      "cell_type": "code",
      "source": [
        "#Describe how Python supports polymorphism with duck typing\n",
        "\n",
        "In duck typing we dont create a subclass instead new class will be created with the same method name but different function."
      ],
      "metadata": {
        "id": "YDcM7enmPKBH"
      },
      "execution_count": null,
      "outputs": []
    },
    {
      "cell_type": "code",
      "source": [
        "#Can encapsulation be bypassed in Python? If so, how?\n",
        "\n",
        "Encapsulation in Python can be bypassed by directly accessing private or protected attributes and methods using their name by using the setattr() and getattr() functions."
      ],
      "metadata": {
        "id": "xmXgvsxpRNtu"
      },
      "execution_count": null,
      "outputs": []
    },
    {
      "cell_type": "code",
      "source": [
        "#Implement a class BankAccount with a private balance attribute. Include methods to deposit, withdraw, and check the balance\n",
        "\n",
        "class BankAccount:\n",
        "    def __init__(self, cash):\n",
        "      self._balance = cash\n",
        "\n",
        "    def deposit(self, cash):\n",
        "        self._balance += cash\n",
        "\n",
        "    def withdraw(self, cash):\n",
        "        if cash < self._balance:\n",
        "          self._balance -= cash\n",
        "\n",
        "    def check_the_balance(self):\n",
        "          return self._balance\n",
        "\n",
        "\n",
        "account = BankAccount(100)\n",
        "account.deposit(50)\n",
        "account.withdraw(30)\n",
        "account.check_the_balance()\n"
      ],
      "metadata": {
        "colab": {
          "base_uri": "https://localhost:8080/"
        },
        "id": "TdhFBC0ySUgE",
        "outputId": "92d90a1e-4e69-421b-f770-d8fec038e394"
      },
      "execution_count": null,
      "outputs": [
        {
          "output_type": "execute_result",
          "data": {
            "text/plain": [
              "120"
            ]
          },
          "metadata": {},
          "execution_count": 9
        }
      ]
    },
    {
      "cell_type": "code",
      "source": [
        "#Develop a Person class with private attributes name and email, and methods to set and get the email\n",
        "\n",
        "class Person:\n",
        "  def __init__(self, name, mail):\n",
        "    self._name = name,\n",
        "    self._email = mail\n",
        "\n",
        "  def getattr(self):\n",
        "    return self._email\n",
        "\n",
        "  def setattr(self, mail):\n",
        "      self._email = mail\n",
        "      return self._email\n",
        "\n",
        "person = Person(\"Satish\", \"satish@mail.com\")\n",
        "\n",
        "person.getattr()\n",
        "\n",
        "person.setattr(\"satish@gmail.com\")\n"
      ],
      "metadata": {
        "colab": {
          "base_uri": "https://localhost:8080/",
          "height": 35
        },
        "id": "Z5Fs6sObT06z",
        "outputId": "25716ffd-38a6-459b-aa16-e7b5c6b6a3e7"
      },
      "execution_count": null,
      "outputs": [
        {
          "output_type": "execute_result",
          "data": {
            "text/plain": [
              "'satish@gmail.com'"
            ],
            "application/vnd.google.colaboratory.intrinsic+json": {
              "type": "string"
            }
          },
          "metadata": {},
          "execution_count": 11
        }
      ]
    },
    {
      "cell_type": "code",
      "source": [
        "#Why is encapsulation considered a pillar of object-oriented programming (OOP)\n",
        "\n",
        "Encapsulation is considered a pillar of object-oriented programming (OOP) because it promotes data hiding and abstraction, allowing for better organization, modularity, and security in code"
      ],
      "metadata": {
        "id": "TxPcB_bNVn97"
      },
      "execution_count": null,
      "outputs": []
    },
    {
      "cell_type": "code",
      "source": [
        "#Create a decorator in Python that adds functionality to a simple function by printing a message before and after the function execution\n",
        "\n",
        "def dec(func):\n",
        "  def wrap(*args, **kwargs):\n",
        "    print(\"before the function execution\")\n",
        "    result = func(*args, **kwargs)\n",
        "    print(\"after the function execution\")\n",
        "    return result\n",
        "  return wrap\n",
        "\n",
        "@dec\n",
        "def func():\n",
        "  return 2+3\n",
        "\n",
        "func()"
      ],
      "metadata": {
        "colab": {
          "base_uri": "https://localhost:8080/"
        },
        "id": "w_qPmbg1tNXb",
        "outputId": "09332822-37ed-4026-ce87-44c49bc08ed6"
      },
      "execution_count": null,
      "outputs": [
        {
          "output_type": "stream",
          "name": "stdout",
          "text": [
            "before the function execution\n",
            "after the function execution\n"
          ]
        },
        {
          "output_type": "execute_result",
          "data": {
            "text/plain": [
              "5"
            ]
          },
          "metadata": {},
          "execution_count": 17
        }
      ]
    },
    {
      "cell_type": "code",
      "source": [
        "# Modify the decorator to accept arguments and print the function name along with the message\n",
        "\n",
        "def dec(func):\n",
        "  def wrap(*args, **kwargs):\n",
        "    print(f\"{func.__name__} before the function execution\")\n",
        "    result = func(*args, **kwargs)\n",
        "    print(f\"{func.__name__} after the function execution\")\n",
        "    return result\n",
        "  return wrap\n",
        "\n",
        "@dec\n",
        "def func():\n",
        "  return 2+3\n",
        "\n",
        "func()\n"
      ],
      "metadata": {
        "colab": {
          "base_uri": "https://localhost:8080/"
        },
        "id": "5yNh0Z6ftn1u",
        "outputId": "9328bdc4-225b-4c4a-d134-3f8e0fa696af"
      },
      "execution_count": null,
      "outputs": [
        {
          "output_type": "stream",
          "name": "stdout",
          "text": [
            "func before the function execution\n",
            "func after the function execution\n"
          ]
        },
        {
          "output_type": "execute_result",
          "data": {
            "text/plain": [
              "5"
            ]
          },
          "metadata": {},
          "execution_count": 20
        }
      ]
    },
    {
      "cell_type": "code",
      "source": [
        "#Create two decorators, and apply them to a single function. Ensure that they execute in the order they are applied\n",
        "\n",
        "def fst(func):\n",
        "  def wrap(*args, **kwargs):\n",
        "    print(\"first decorator\")\n",
        "    result = func(*args, **kwargs)\n",
        "    print(\"second decorators\")\n",
        "    return result\n",
        "  return wrap\n",
        "\n",
        "def sec(func):\n",
        "  def wrap(*args, **kwargs):\n",
        "    print(\"before the 2 decorators execution\")\n",
        "    result = func(*args, **kwargs)\n",
        "    print(\"after the 2 decorators execution\")\n",
        "    return result\n",
        "  return wrap\n",
        "\n",
        "@fst\n",
        "@sec\n",
        "def func():\n",
        "  print(\"Inside the function\")\n",
        "\n",
        "func()"
      ],
      "metadata": {
        "colab": {
          "base_uri": "https://localhost:8080/"
        },
        "id": "Wvjv2V5wvDkr",
        "outputId": "688ed0b1-271b-48c0-c4e4-3e850d12867d"
      },
      "execution_count": null,
      "outputs": [
        {
          "output_type": "stream",
          "name": "stdout",
          "text": [
            "first decorator\n",
            "before the 2 decorators execution\n",
            "Inside the function\n",
            "after the 2 decorators execution\n",
            "second decorators\n"
          ]
        }
      ]
    },
    {
      "cell_type": "code",
      "source": [
        " #Create a decorator that preserves the metadata of the original function\n",
        "\n",
        "from functools import wraps\n",
        "\n",
        "def my_decorator(func):\n",
        "    @wraps(func)\n",
        "    def wrapper(*args, **kwargs):\n",
        "        print(\"Decorator code here\")\n",
        "        return func(*args, **kwargs)\n",
        "    return wrapper\n",
        "\n",
        "@my_decorator\n",
        "def example_function():\n",
        "    \"\"\"This is an example function.\"\"\"\n",
        "    print(\"Inside the function\")\n",
        "\n",
        "print(\"Function name:\", example_function.__name__)\n",
        "print(\"Function docstring:\", example_function.__doc__)\n",
        "\n"
      ],
      "metadata": {
        "colab": {
          "base_uri": "https://localhost:8080/"
        },
        "id": "HODP-l0KwmJa",
        "outputId": "4d4a8870-f9bf-440a-a67f-748965a01fd9"
      },
      "execution_count": null,
      "outputs": [
        {
          "output_type": "stream",
          "name": "stdout",
          "text": [
            "Function name: example_function\n",
            "Function docstring: This is an example function.\n"
          ]
        }
      ]
    },
    {
      "cell_type": "code",
      "source": [
        "# Create a Python class `Calculator` with a static method `add` that takes in two numbers and returns their sum\n",
        "\n",
        "class Calculator:\n",
        "    @staticmethod\n",
        "    def add(a, b):\n",
        "        return a + b\n",
        "\n",
        "Calculator.add(2, 3)\n"
      ],
      "metadata": {
        "colab": {
          "base_uri": "https://localhost:8080/"
        },
        "id": "8bYuiOYIxlxX",
        "outputId": "fdddf280-f8e4-4e49-ac01-c860285c47b3"
      },
      "execution_count": null,
      "outputs": [
        {
          "output_type": "execute_result",
          "data": {
            "text/plain": [
              "5"
            ]
          },
          "metadata": {},
          "execution_count": 40
        }
      ]
    },
    {
      "cell_type": "code",
      "source": [
        "# Create a Python class `Employee` with a class `method get_employee_count` that returns the total number of employees created\n",
        "\n",
        "class Employee:\n",
        "    def __init__(self, name):\n",
        "      self._count = 0\n",
        "      self.name = name\n",
        "      self._count += 1\n",
        "    def get_employee_count(self):\n",
        "        return self._count\n",
        "\n",
        "emp = Employee(\"pwskills\")\n",
        "emp.get_employee_count()"
      ],
      "metadata": {
        "colab": {
          "base_uri": "https://localhost:8080/"
        },
        "id": "Kq1H32Lm5K9J",
        "outputId": "8a3a613c-cac8-4455-97d9-1d99cde6a05d"
      },
      "execution_count": null,
      "outputs": [
        {
          "output_type": "execute_result",
          "data": {
            "text/plain": [
              "1"
            ]
          },
          "metadata": {},
          "execution_count": 47
        }
      ]
    },
    {
      "cell_type": "code",
      "source": [
        "# Create a Python class `StringFormatter` with a static method `reverse_string` that takes a string as input and returns its reverse\n",
        "\n",
        "class StringFormatter:\n",
        "    @staticmethod\n",
        "    def reverse_string(s):\n",
        "        return s[::-1]\n",
        "\n",
        "sec =  StringFormatter.reverse_string(\"pwskills\")\n",
        "sec"
      ],
      "metadata": {
        "colab": {
          "base_uri": "https://localhost:8080/",
          "height": 35
        },
        "id": "HfsqEcQm6NfC",
        "outputId": "ebb2fdce-7c3c-4564-a7bf-6dd996f348f6"
      },
      "execution_count": null,
      "outputs": [
        {
          "output_type": "execute_result",
          "data": {
            "text/plain": [
              "'sllikswp'"
            ],
            "application/vnd.google.colaboratory.intrinsic+json": {
              "type": "string"
            }
          },
          "metadata": {},
          "execution_count": 51
        }
      ]
    },
    {
      "cell_type": "code",
      "source": [
        "#Create a Python class `Circle` with a class method `calculate_area` that calculates the area of a circle given its radius\n",
        "\n",
        "class Circle:\n",
        "    def calculate_area(self, radius):\n",
        "        return 3.14 * radius ** 2\n",
        "\n",
        "circle = Circle()\n",
        "circle.calculate_area(5)"
      ],
      "metadata": {
        "colab": {
          "base_uri": "https://localhost:8080/"
        },
        "id": "V16NAZGN6z-S",
        "outputId": "dfff3193-e81c-4043-8299-dc1a0e3b9e63"
      },
      "execution_count": null,
      "outputs": [
        {
          "output_type": "execute_result",
          "data": {
            "text/plain": [
              "78.5"
            ]
          },
          "metadata": {},
          "execution_count": 52
        }
      ]
    },
    {
      "cell_type": "code",
      "source": [
        "#Create a Python class `TemperatureConverter` with a static method `celsius_to_fahrenheit` that converts Celsius to Fahrenheit\n",
        "\n",
        "class TemperatureConverter:\n",
        "    @staticmethod\n",
        "    def celsius_to_fahrenheit(celsius):\n",
        "        return (celsius * 9/5) + 32\n",
        "\n",
        "TemperatureConverter.celsius_to_fahrenheit(25)"
      ],
      "metadata": {
        "colab": {
          "base_uri": "https://localhost:8080/"
        },
        "id": "ZF5yqi_p7GUn",
        "outputId": "45b77f9e-e432-43d0-fe1e-67ed27845593"
      },
      "execution_count": null,
      "outputs": [
        {
          "output_type": "execute_result",
          "data": {
            "text/plain": [
              "77.0"
            ]
          },
          "metadata": {},
          "execution_count": 53
        }
      ]
    },
    {
      "cell_type": "code",
      "source": [
        "# What is the purpose of the __str__() method in Python classes? Provide an example\n",
        "\n",
        "\n",
        "The __str__() method in Python classes is used to return a string representation of an object. It is called by the str() function and by the print() function to convert the object to a string.\n",
        "\n",
        "class Car:\n",
        "    def __init__(self, make, model, year):\n",
        "        self.make = make\n",
        "        self.model = model\n",
        "        self.year = year\n",
        "\n",
        "    def __str__(self):\n",
        "        return f\"{self.year} {self.make} {self.model}\"\n",
        "\n",
        "my_car = Car(\"Toyota\", \"Camry\", 2020)\n",
        "\n",
        "car_str = str(my_car)\n",
        "print(car_str)\n",
        "\n",
        "print(my_car)\n"
      ],
      "metadata": {
        "colab": {
          "base_uri": "https://localhost:8080/"
        },
        "id": "k3i6fVGZ7NKf",
        "outputId": "323f581b-d098-4ac1-af00-c79835c9e1f4"
      },
      "execution_count": null,
      "outputs": [
        {
          "output_type": "stream",
          "name": "stdout",
          "text": [
            "2020 Toyota Camry\n",
            "2020 Toyota Camry\n"
          ]
        }
      ]
    },
    {
      "cell_type": "code",
      "source": [
        "#Explain the usage of the __add__() method in Python classes. Provide an example\n",
        "\n",
        "\n",
        "in Python the __add__() method is used to define the behavior of the addition operator + for objects of a class\n",
        "\n",
        "class Vector:\n",
        "    def __init__(self, x, y):\n",
        "        self.x = x\n",
        "        self.y = y\n",
        "\n",
        "    def __add__(self, other):\n",
        "        return Vector(self.x + other.x, self.y + other.y)\n",
        "\n",
        "    def __str__(self):\n",
        "        return f\"Vector({self.x}, {self.y})\"\n",
        "\n",
        "v1 = Vector(2, 3)\n",
        "v2 = Vector(5, 7)\n",
        "\n",
        "result = v1 + v2\n",
        "print(result)\n"
      ],
      "metadata": {
        "colab": {
          "base_uri": "https://localhost:8080/"
        },
        "id": "P_I2XWna72ye",
        "outputId": "d493bbae-b5b2-417f-a554-3e9d6dc56c79"
      },
      "execution_count": null,
      "outputs": [
        {
          "output_type": "stream",
          "name": "stdout",
          "text": [
            "Vector(7, 10)\n"
          ]
        }
      ]
    },
    {
      "cell_type": "code",
      "source": [
        "#What is the purpose of the __getitem__() method in Python? Provide an example\n",
        "\n",
        "The __getitem__() method in Python is used to define the behavior of the indexing operation on objects of a class.\n",
        "\n",
        "class MyList:\n",
        "    def __init__(self, *args):\n",
        "        self.data = list(args)\n",
        "\n",
        "    def __getitem__(self, index):\n",
        "        return self.data[index]\n",
        "\n",
        "\n",
        "my_list = MyList(1, 2, 3, 4, 5)\n",
        "\n",
        "\n",
        "print(my_list[0])\n",
        "print(my_list[-1])\n"
      ],
      "metadata": {
        "colab": {
          "base_uri": "https://localhost:8080/"
        },
        "id": "J9BBFSae8uym",
        "outputId": "699eabee-ae54-4056-ba96-d2164638279d"
      },
      "execution_count": null,
      "outputs": [
        {
          "output_type": "stream",
          "name": "stdout",
          "text": [
            "1\n",
            "5\n"
          ]
        }
      ]
    },
    {
      "cell_type": "code",
      "source": [
        "#Explain the usage of the __iter__() and __next__() methods in Python. Provide an example using iterators\n",
        "\n",
        "__iter__(): This method returns an iterator object itself. It is called when the iterator is initialized\n",
        "__next__(): This method returns the next item from the iterator. It is called each time an iteration is requested\n",
        "\n",
        "class MyIterator:\n",
        "    def __init__(self, limit):\n",
        "        self.limit = limit\n",
        "        self.current = 0\n",
        "\n",
        "    def __iter__(self):\n",
        "        return self\n",
        "\n",
        "    def __next__(self):\n",
        "        if self.current < self.limit:\n",
        "            result = self.current\n",
        "            self.current += 1\n",
        "            return result\n",
        "        else:\n",
        "            raise StopIteration\n",
        "\n",
        "my_iterator = MyIterator(5)\n",
        "\n",
        "for num in my_iterator:\n",
        "    print(num)"
      ],
      "metadata": {
        "colab": {
          "base_uri": "https://localhost:8080/"
        },
        "id": "_49aE9AA-A_V",
        "outputId": "611f9036-4d8a-4fdc-c8a0-e534de2798a5"
      },
      "execution_count": null,
      "outputs": [
        {
          "output_type": "stream",
          "name": "stdout",
          "text": [
            "0\n",
            "1\n",
            "2\n",
            "3\n",
            "4\n"
          ]
        }
      ]
    },
    {
      "cell_type": "code",
      "source": [
        "#What is the purpose of a getter method in Python? Provide an example demonstrating the use of a getter method using property decorators\n",
        "\n",
        "In Python, a getter method is used to retrieve the value of a private attribute of a class.\n",
        "\n",
        "class Rectangle:\n",
        "    def __init__(self, width, height):\n",
        "        self._width = width\n",
        "        self._height = height\n",
        "\n",
        "    @property\n",
        "    def width(self):\n",
        "        return self._width\n",
        "\n",
        "    @property\n",
        "    def height(self):\n",
        "        return self._height\n",
        "\n",
        "    @property\n",
        "    def area(self):\n",
        "        return self._width * self._height\n",
        "\n",
        "\n",
        "rect = Rectangle(5, 4)\n",
        "rect.area\n"
      ],
      "metadata": {
        "colab": {
          "base_uri": "https://localhost:8080/"
        },
        "id": "OVL1KLPw-ozk",
        "outputId": "da55daf1-f69e-43fc-ae64-e444bd038496"
      },
      "execution_count": null,
      "outputs": [
        {
          "output_type": "execute_result",
          "data": {
            "text/plain": [
              "20"
            ]
          },
          "metadata": {},
          "execution_count": 93
        }
      ]
    },
    {
      "cell_type": "code",
      "source": [
        "#Explain the role of setter methods in Python. Demonstrate how to use a setter method to modify a class attribute using property decorators\n",
        "\n",
        "In Python, setter methods are used to modify the value of a private attribute of a class.\n",
        "\n",
        "class Rectangle:\n",
        "    def __init__(self, width, height):\n",
        "        self._width = width\n",
        "        self._height = height\n",
        "\n",
        "    @property\n",
        "    def width(self):\n",
        "        return self._width\n",
        "\n",
        "    @property\n",
        "    def height(self):\n",
        "        return self._height\n",
        "\n",
        "    @property\n",
        "    def area(self):\n",
        "        return self._width * self._height\n",
        "\n",
        "    @height.setter\n",
        "    def height_update(self, value):\n",
        "        self._height = value\n",
        "\n",
        "\n",
        "\n",
        "rect = Rectangle(5, 4)\n",
        "rect.height_update = 5\n",
        "rect.area"
      ],
      "metadata": {
        "colab": {
          "base_uri": "https://localhost:8080/"
        },
        "id": "eWNj1CoiBZmi",
        "outputId": "80223edf-d15b-40fa-b434-5cbf67d5fb4c"
      },
      "execution_count": null,
      "outputs": [
        {
          "output_type": "execute_result",
          "data": {
            "text/plain": [
              "25"
            ]
          },
          "metadata": {},
          "execution_count": 100
        }
      ]
    },
    {
      "cell_type": "code",
      "source": [
        "#What is the purpose of the @property decorator in Python? Provide an example illustrating its usage\n",
        "\n",
        "The @property decorator allows you to define a method that can be accessed like an attribute, without using parentheses.\n",
        "\n",
        "class Rectangle:\n",
        "    def __init__(self, width, height):\n",
        "        self._width = width\n",
        "        self._height = height\n",
        "\n",
        "    @property\n",
        "    def width(self):\n",
        "        return self._width\n",
        "\n",
        "    @property\n",
        "    def height(self):\n",
        "        return self._height\n",
        "\n",
        "    @property\n",
        "    def area(self):\n",
        "        return self._width * self._height\n",
        "\n",
        "\n",
        "rect = Rectangle(5, 4)\n",
        "rect.area"
      ],
      "metadata": {
        "colab": {
          "base_uri": "https://localhost:8080/"
        },
        "id": "icMmlyRTCVlA",
        "outputId": "c42523c0-62dc-433d-e3f1-d32cc1d3911b"
      },
      "execution_count": null,
      "outputs": [
        {
          "output_type": "execute_result",
          "data": {
            "text/plain": [
              "20"
            ]
          },
          "metadata": {},
          "execution_count": 102
        }
      ]
    },
    {
      "cell_type": "code",
      "source": [
        "#Explain the use of the @deleter decorator in Python property decorators. Provide a code example demonstrating its application\n",
        "\n",
        "This decorator is used to define a method that will be called when the property is deleted using the del statement.\n",
        "\n",
        "class Person:\n",
        "    def __init__(self, name):\n",
        "        self._name = name\n",
        "\n",
        "    @property\n",
        "    def name(self):\n",
        "        return self._name\n",
        "\n",
        "    @name.setter\n",
        "    def name(self, value):\n",
        "        self._name = value\n",
        "\n",
        "    @name.deleter\n",
        "    def name(self):\n",
        "        print(f\"Deleting {self._name}\")\n",
        "        del self._name\n",
        "\n",
        "person = Person(\"pwskills\")\n",
        "\n",
        "del person.name\n"
      ],
      "metadata": {
        "colab": {
          "base_uri": "https://localhost:8080/"
        },
        "id": "NCH5gKQ4DaDY",
        "outputId": "12132f77-b472-446b-a884-846e0dc659a2"
      },
      "execution_count": null,
      "outputs": [
        {
          "output_type": "stream",
          "name": "stdout",
          "text": [
            "Deleting pwskills\n"
          ]
        }
      ]
    },
    {
      "cell_type": "code",
      "source": [
        "#How does encapsulation relate to property decorators in Python? Provide an example showcasing encapsulation using property decorators.\n",
        "\n",
        "class Person:\n",
        "    def __init__(self, name):\n",
        "        self._name = name\n",
        "\n",
        "    @property\n",
        "    def name(self):\n",
        "        return self._name\n",
        "\n",
        "    @name.setter\n",
        "    def name_edit(self, value):\n",
        "        self._name = value\n",
        "\n",
        "person = Person(\"pw\")\n",
        "person.name_edit = \"pwskills\"\n",
        "person.name\n",
        "\n"
      ],
      "metadata": {
        "colab": {
          "base_uri": "https://localhost:8080/",
          "height": 35
        },
        "id": "vc_VpcobEE1f",
        "outputId": "f75ab7f6-b926-4be0-a682-a404cc953da8"
      },
      "execution_count": null,
      "outputs": [
        {
          "output_type": "execute_result",
          "data": {
            "text/plain": [
              "'pwskills'"
            ],
            "application/vnd.google.colaboratory.intrinsic+json": {
              "type": "string"
            }
          },
          "metadata": {},
          "execution_count": 107
        }
      ]
    },
    {
      "cell_type": "code",
      "source": [],
      "metadata": {
        "id": "nyCZCBYZE3Oq"
      },
      "execution_count": null,
      "outputs": []
    }
  ]
}