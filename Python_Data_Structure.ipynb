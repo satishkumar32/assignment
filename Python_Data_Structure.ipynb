{
  "nbformat": 4,
  "nbformat_minor": 0,
  "metadata": {
    "colab": {
      "provenance": []
    },
    "kernelspec": {
      "name": "python3",
      "display_name": "Python 3"
    },
    "language_info": {
      "name": "python"
    }
  },
  "cells": [
    {
      "cell_type": "code",
      "execution_count": null,
      "metadata": {
        "colab": {
          "base_uri": "https://localhost:8080/",
          "height": 35
        },
        "id": "CY4_IcvkNwbz",
        "outputId": "fc8ff6fb-1038-43d1-c199-3e3548baf5e9"
      },
      "outputs": [
        {
          "output_type": "execute_result",
          "data": {
            "text/plain": [
              "'sllikswp'"
            ],
            "application/vnd.google.colaboratory.intrinsic+json": {
              "type": "string"
            }
          },
          "metadata": {},
          "execution_count": 1
        }
      ],
      "source": [
        "# Write a code to reverse a string\n",
        "\n",
        "name = 'pwskills'\n",
        "rev_name = name[::-1]\n",
        "rev_name"
      ]
    },
    {
      "cell_type": "code",
      "source": [
        "#Write a code to count the number of vowels in a string\n",
        "vowels = [\"a\", \"e\", \"i\",\"o\", \"u\"]\n",
        "vowels_in_string = 0\n",
        "for char in name:\n",
        "  if char in vowels:\n",
        "    vowels_in_string+=1\n",
        "\n",
        "vowels_in_string"
      ],
      "metadata": {
        "colab": {
          "base_uri": "https://localhost:8080/"
        },
        "id": "i4ITM8CnUIhv",
        "outputId": "30471e4f-67fa-49ab-c00f-5719242cf1cc"
      },
      "execution_count": null,
      "outputs": [
        {
          "output_type": "execute_result",
          "data": {
            "text/plain": [
              "1"
            ]
          },
          "metadata": {},
          "execution_count": 2
        }
      ]
    },
    {
      "cell_type": "code",
      "source": [
        "# Write a code to check if a given string is a palindrome or not\n",
        "\n",
        "user_input = input(\"Please enter the word here \")\n",
        "rev_user_input = user_input[::-1]\n",
        "if user_input == rev_user_input:\n",
        "  print(f\"{user_input} it is an palindrome\")\n",
        "else:\n",
        "   print(f\"{user_input} it is not an palindrome\")\n"
      ],
      "metadata": {
        "colab": {
          "base_uri": "https://localhost:8080/"
        },
        "id": "ER3UkK1lU-aX",
        "outputId": "cca390b6-7624-4841-b138-ac69f29b2262"
      },
      "execution_count": null,
      "outputs": [
        {
          "output_type": "stream",
          "name": "stdout",
          "text": [
            "Please enter the word herehi\n",
            "hi it is not an palindrome\n"
          ]
        }
      ]
    },
    {
      "cell_type": "code",
      "source": [
        "#Write a code to check if two given strings are anagrams of each other\n",
        "first_string = input(\"Please enter the first word here \")\n",
        "second_string = input(\"Please enter the second word here \")\n",
        "\n",
        "first_string = first_string.replace(\" \",\"\")\n",
        "second_string = second_string.replace(\" \",\"\")\n",
        "if len(first_string) == len(second_string):\n",
        "    print(f\"The {first_string} and {second_string} are anagrams\")\n",
        "else:\n",
        "    print(f\"The {first_string} and {second_string} are not anagrams\")"
      ],
      "metadata": {
        "id": "7Vhvw66AVxs1",
        "colab": {
          "base_uri": "https://localhost:8080/"
        },
        "outputId": "4c8972ee-a6e0-4082-c586-3ea78a9e1528"
      },
      "execution_count": null,
      "outputs": [
        {
          "output_type": "stream",
          "name": "stdout",
          "text": [
            "Please enter the first word here listen\n",
            "Please enter the second word here silent\n",
            "The listen and silent are anagrams\n"
          ]
        }
      ]
    },
    {
      "cell_type": "code",
      "source": [
        "#Write a code to find all occurrences of a given substring within another string\n",
        "main_string = input('Enter the main string ')\n",
        "substring = input('Enter the substring string ')\n",
        "\n",
        "occurrences = []\n",
        "start = 0\n",
        "while True:\n",
        "  start = main_string.find(substring, start)\n",
        "  if start == -1:\n",
        "    break\n",
        "  occurrences.append(start)\n",
        "  start += 1\n",
        "print(occurrences)\n",
        "\n"
      ],
      "metadata": {
        "colab": {
          "base_uri": "https://localhost:8080/"
        },
        "id": "uNTuFrDqcbNx",
        "outputId": "e428a0ae-a98e-4fc9-9f5d-1e738faddf42"
      },
      "execution_count": null,
      "outputs": [
        {
          "output_type": "stream",
          "name": "stdout",
          "text": [
            "[0, 7]\n"
          ]
        }
      ]
    },
    {
      "cell_type": "code",
      "source": [
        "#Write a code to perform basic string compression using the counts of repeated characters\n",
        "\n",
        "m = input(\"please enter a word\")\n",
        "n=\"\"\n",
        "char = 1\n",
        "for i in m:\n",
        "  if i not in n:\n",
        "    n +=i\n",
        "  else:\n",
        "    if n[-1] == i:\n",
        "      char +=1\n",
        "      d = str(char)\n",
        "      n+=d\n",
        "      char = int(1)\n",
        "    else:\n",
        "      n +=i\n",
        "print(n)\n"
      ],
      "metadata": {
        "colab": {
          "base_uri": "https://localhost:8080/"
        },
        "id": "ZbvFsD_xrTHQ",
        "outputId": "c354144f-60e6-4e0e-b04b-ea1b10a7f7ca"
      },
      "execution_count": null,
      "outputs": [
        {
          "output_type": "stream",
          "name": "stdout",
          "text": [
            "pw2skil2a2s\n"
          ]
        }
      ]
    },
    {
      "cell_type": "code",
      "source": [
        "#Write a code to determine if a string has all unique characters\n",
        "m = input(\"please enter a word \")\n",
        "m_strip = m.replace(\" \",\"\")\n",
        "n = \"\"\n",
        "for i in m_strip:\n",
        "  if i not in n:\n",
        "    n+=i\n",
        "  else:\n",
        "    print(\"please enter unique characters\")"
      ],
      "metadata": {
        "colab": {
          "base_uri": "https://localhost:8080/"
        },
        "id": "ISxYhJWq0Uvn",
        "outputId": "eed9108a-2a1e-4fd3-9595-d44c8aee27b0"
      },
      "execution_count": null,
      "outputs": [
        {
          "name": "stdout",
          "output_type": "stream",
          "text": [
            "please enter a wordads\n"
          ]
        }
      ]
    },
    {
      "cell_type": "code",
      "source": [
        "#Write a code to convert a given string to uppercase or lowercase\n",
        "m = input(\"please enter a word \")\n",
        "d = m.upper()\n",
        "print(d)"
      ],
      "metadata": {
        "colab": {
          "base_uri": "https://localhost:8080/"
        },
        "id": "AKBTycti1Iyu",
        "outputId": "a7e054f0-e362-40ea-96c6-660aa2dabf48"
      },
      "execution_count": null,
      "outputs": [
        {
          "output_type": "stream",
          "name": "stdout",
          "text": [
            "please enter a word pwskills\n",
            "PWSKILLS\n"
          ]
        }
      ]
    },
    {
      "cell_type": "code",
      "source": [
        "#Write a code to count the number of words in a string\n",
        "m = input(\"please enter a word \")\n",
        "d = len(m)\n",
        "print(d)"
      ],
      "metadata": {
        "colab": {
          "base_uri": "https://localhost:8080/"
        },
        "id": "r3gDsfQ71XaG",
        "outputId": "8d2333c3-516e-443c-9def-8cb0d256c8c4"
      },
      "execution_count": null,
      "outputs": [
        {
          "output_type": "stream",
          "name": "stdout",
          "text": [
            "please enter a word pwskills\n",
            "8\n"
          ]
        }
      ]
    },
    {
      "cell_type": "code",
      "source": [
        "#Write a code to concatenate two strings without using the + operator\n",
        "m = input(\"please enter a word \")\n",
        "n = input(\"please enter a word \")\n",
        "print(f\"{m} {n}\")"
      ],
      "metadata": {
        "colab": {
          "base_uri": "https://localhost:8080/"
        },
        "id": "v03fb_xQ2Ekd",
        "outputId": "e4eb8841-ece5-445c-c35f-d53b9359612e"
      },
      "execution_count": null,
      "outputs": [
        {
          "output_type": "stream",
          "name": "stdout",
          "text": [
            "please enter a word pw\n",
            "please enter a word skills\n",
            "pw skills\n"
          ]
        }
      ]
    },
    {
      "cell_type": "code",
      "source": [
        "# Write a code to remove all occurrences of a specific element from a list\n",
        "lst = [\"a\", \"a\", \"b\",\"c\",\"d\",\"d\"]\n",
        "remove_occurrences = set(lst)\n",
        "print(remove_occurrences)"
      ],
      "metadata": {
        "colab": {
          "base_uri": "https://localhost:8080/"
        },
        "id": "8TFhVO7T2Va9",
        "outputId": "8956fc92-5a3d-4857-c19a-49464a1d705e"
      },
      "execution_count": null,
      "outputs": [
        {
          "output_type": "stream",
          "name": "stdout",
          "text": [
            "{'a', 'c', 'd', 'b'}\n"
          ]
        }
      ]
    },
    {
      "cell_type": "code",
      "source": [
        "# Implement a code to find the second largest number in a given list of integers\n",
        "ls = [1,5,10,9,45,31,87,92,105]\n",
        "sort_ls = sorted(ls)\n",
        "sort_ls[-2]"
      ],
      "metadata": {
        "colab": {
          "base_uri": "https://localhost:8080/"
        },
        "id": "LgQWi5GOzoYo",
        "outputId": "a88f3d14-d369-4d5c-d564-c3cb25f661a3"
      },
      "execution_count": null,
      "outputs": [
        {
          "output_type": "execute_result",
          "data": {
            "text/plain": [
              "92"
            ]
          },
          "metadata": {},
          "execution_count": 3
        }
      ]
    },
    {
      "cell_type": "code",
      "source": [
        "# Create a code to count the occurrences of each element in a list and return a dictionary with elements as keys and their counts as values\n",
        "\n",
        "ls = [1,5,10,9,45,31,87,92,105]\n",
        "dict ={}\n",
        "count = 0\n",
        "for i in ls:\n",
        "  count += 1\n",
        "  dict[i] = count\n",
        "print(dict)\n"
      ],
      "metadata": {
        "colab": {
          "base_uri": "https://localhost:8080/"
        },
        "id": "vl-0uHQG0LaQ",
        "outputId": "67bbe548-3c22-45ca-9cfd-1c688b2b33e3"
      },
      "execution_count": null,
      "outputs": [
        {
          "output_type": "stream",
          "name": "stdout",
          "text": [
            "{1: 1, 5: 2, 10: 3, 9: 4, 45: 5, 31: 6, 87: 7, 92: 8, 105: 9}\n"
          ]
        }
      ]
    },
    {
      "cell_type": "code",
      "source": [
        "# Write a code to reverse a list in-place without using any built-in reverse functions\n",
        "ls = [1,5,10,9,45,31,87,92,105]\n",
        "ds = []\n",
        "for i in ls:\n",
        "    ds.insert(0, i)\n",
        "print(ds)\n"
      ],
      "metadata": {
        "colab": {
          "base_uri": "https://localhost:8080/"
        },
        "id": "U3TDGKQh0_aY",
        "outputId": "0ed98340-4eb9-471c-ef79-da615d180245"
      },
      "execution_count": null,
      "outputs": [
        {
          "output_type": "stream",
          "name": "stdout",
          "text": [
            "[105, 92, 87, 31, 45, 9, 10, 5, 1]\n"
          ]
        }
      ]
    },
    {
      "cell_type": "code",
      "source": [
        "#Implement a code to find and remove duplicates from a list while preserving the original order of elements\n",
        "ls = [1,5,10,9,45,1,31,87,92,45,105]\n",
        "ds = []\n",
        "for i in ls:\n",
        "  if i not in ds:\n",
        "    ds.append(i)\n",
        "ds\n"
      ],
      "metadata": {
        "colab": {
          "base_uri": "https://localhost:8080/"
        },
        "id": "G5A1VwTc2C43",
        "outputId": "6e30cb4e-ac49-44fa-bddc-fd5a7f2aa307"
      },
      "execution_count": null,
      "outputs": [
        {
          "output_type": "execute_result",
          "data": {
            "text/plain": [
              "[1, 5, 10, 9, 45, 31, 87, 92, 105]"
            ]
          },
          "metadata": {},
          "execution_count": 11
        }
      ]
    },
    {
      "cell_type": "code",
      "source": [
        "# Create a code to check if a given list is sorted (either in ascending or descending order) or not\n",
        "ls = [1,5,10,9,45,31,87,92,105]\n",
        "\n",
        "if ls == ls:\n",
        "  print(\"The list is not sorted\")\n",
        "else:\n",
        "  print(\"The list is sorted in ascending order or descending\")"
      ],
      "metadata": {
        "colab": {
          "base_uri": "https://localhost:8080/"
        },
        "id": "jzgl8-Hq278X",
        "outputId": "b53bd9d7-c92e-4124-f957-6b77b013a92c"
      },
      "execution_count": null,
      "outputs": [
        {
          "output_type": "stream",
          "name": "stdout",
          "text": [
            "The list is not sorted\n"
          ]
        }
      ]
    },
    {
      "cell_type": "code",
      "source": [
        "#Write a code to merge two sorted lists into a single sorted list\n",
        "ls = [1,5,10,9,45,31,87,92,105]\n",
        "ls2 = [105, 92, 87, 31, 45, 9, 10, 5, 1]\n",
        "\n",
        "ls.extend(ls2)\n",
        "ls\n"
      ],
      "metadata": {
        "colab": {
          "base_uri": "https://localhost:8080/"
        },
        "id": "peTAVDWt4EGe",
        "outputId": "6ac15f36-6082-4244-dede-76d441551c65"
      },
      "execution_count": null,
      "outputs": [
        {
          "output_type": "execute_result",
          "data": {
            "text/plain": [
              "[1, 5, 10, 9, 45, 31, 87, 92, 105, 105, 92, 87, 31, 45, 9, 10, 5, 1]"
            ]
          },
          "metadata": {},
          "execution_count": 26
        }
      ]
    },
    {
      "cell_type": "code",
      "source": [
        "#Implement a code to find the intersection of two given lists\n",
        "ls = [1,5,10,9,45,31,87,92,105]\n",
        "ls2 = [105, 92, 87, 31, 45, 9, 10, 5, 1]\n",
        "\n",
        "list(set(ls) & set(ls2))"
      ],
      "metadata": {
        "colab": {
          "base_uri": "https://localhost:8080/"
        },
        "id": "B5eGqapy7p7y",
        "outputId": "11da7ede-62bb-49f9-ecde-15ea0ebd844e"
      },
      "execution_count": null,
      "outputs": [
        {
          "output_type": "execute_result",
          "data": {
            "text/plain": [
              "[1, 5, 105, 10, 9, 45, 87, 92, 31]"
            ]
          },
          "metadata": {},
          "execution_count": 30
        }
      ]
    },
    {
      "cell_type": "code",
      "source": [
        "#Create a code to find the union of two lists without duplicates\n",
        "ls = [1,5,10,9,45,31,87,92,105]\n",
        "ls2 = [105, 92, 87, 31, 45, 9, 10, 5, 1]\n",
        "\n",
        "set.union(set(ls) , set(ls2))"
      ],
      "metadata": {
        "colab": {
          "base_uri": "https://localhost:8080/"
        },
        "id": "JCxcarGs8alh",
        "outputId": "705bfaa0-844d-436c-d029-65e76878a895"
      },
      "execution_count": null,
      "outputs": [
        {
          "output_type": "execute_result",
          "data": {
            "text/plain": [
              "{1, 5, 9, 10, 31, 45, 87, 92, 105}"
            ]
          },
          "metadata": {},
          "execution_count": 35
        }
      ]
    },
    {
      "cell_type": "code",
      "source": [
        "# Write a code to shuffle a given list randomly without using any built-in shuffle functions\n",
        "ls = [1,5,10,9,45,31,87,92,105]\n",
        "ds= []\n",
        "for i in ls:\n",
        "    if i %2 == 0:\n",
        "      ds.insert(0, i)\n",
        "    else:\n",
        "      ds.insert(1, i)\n",
        "ds"
      ],
      "metadata": {
        "colab": {
          "base_uri": "https://localhost:8080/"
        },
        "id": "AWbk1aeF9GwZ",
        "outputId": "b6274970-a9bd-4298-8e3b-2c5babb22452"
      },
      "execution_count": null,
      "outputs": [
        {
          "output_type": "execute_result",
          "data": {
            "text/plain": [
              "[92, 105, 10, 87, 31, 45, 9, 1, 5]"
            ]
          },
          "metadata": {},
          "execution_count": 39
        }
      ]
    },
    {
      "cell_type": "code",
      "source": [
        "#Write a code that takes two tuples as input and returns a new tuple containing elements that are common to both input tuples\n",
        "ls = [1,5,10,9,]\n",
        "ls2 = [105, 92, 87, 31, 45, 9, 10, 5, 1]\n",
        "\n",
        "tuple(set.intersection(set(ls) & set(ls2)))\n"
      ],
      "metadata": {
        "colab": {
          "base_uri": "https://localhost:8080/"
        },
        "id": "u5W5iZ_R-WV3",
        "outputId": "d27ec333-e677-4a0b-9e72-a99ebd39455e"
      },
      "execution_count": null,
      "outputs": [
        {
          "output_type": "execute_result",
          "data": {
            "text/plain": [
              "(1, 10, 5, 9)"
            ]
          },
          "metadata": {},
          "execution_count": 45
        }
      ]
    },
    {
      "cell_type": "code",
      "source": [
        "#Create a code that prompts the user to enter two sets of integers. Then, print the intersection of these two sets\n",
        "user_input1= input(\"enter integers separated by commas\")\n",
        "user_input2= input(\"enter integers separated by commas\")\n",
        "\n",
        "set1 = 0\n",
        "user_combo1 = user_input1.split(\",\")\n",
        "user_combo2 = user_input2.split(\",\")\n",
        "ds=[]\n",
        "ds2 = []\n",
        "all = ['a', 'b', 'c', 'd', 'e', 'f', 'g', 'h', 'i', 'j', 'k', 'l', 'm', 'n', 'o', 'p', 'q', 'r', 's', 't', 'u', 'v', 'w', 'x', 'y', 'z', 'A', 'B', 'C', 'D', 'E', 'F', 'G', 'H', 'I', 'J', 'K', 'L', 'M', 'N', 'O', 'P', 'Q', 'R', 'S', 'T', 'U', 'V', 'W', 'X', 'Y', 'Z', '0''!', '@', '#', '$', '%', '^', '&', '*', '(', ')', '_', '+', '-', '=', '[', ']', '{', '}', '|', ':', ';', '<', '>', ',', '.', '?', '/']\n",
        "closes = 0\n",
        "for i in user_combo1:\n",
        "    if i in all:\n",
        "      closes +=0\n",
        "      print(\"only sets of integers separated by commas are accepted\")\n",
        "    else:\n",
        "      ins = int(i)\n",
        "      ds.append(ins)\n",
        "      set1 += 1\n",
        "\n",
        "for i in user_combo2:\n",
        "    if i in all:\n",
        "      closes +=0\n",
        "      print(\"only sets of integers separated by commas are accepted\")\n",
        "    else:\n",
        "      ins = int(i)\n",
        "      ds2.append(ins)\n",
        "      set1 += 1\n",
        "\n",
        "if set1 >= 1 and closes <=0:\n",
        "  print(set.intersection(set(ds), set(ds2)))\n",
        "\n"
      ],
      "metadata": {
        "colab": {
          "base_uri": "https://localhost:8080/"
        },
        "id": "cp4-m2x8-w0n",
        "outputId": "24e42284-d7ba-4223-e565-2d04f280fa83"
      },
      "execution_count": null,
      "outputs": [
        {
          "output_type": "stream",
          "name": "stdout",
          "text": [
            "enterintegers separated by commas1,5,10,2\n",
            "enterintegers separated by commas105, 92, 87, 31, 45, 9, 10, 5, 1\n",
            "{1, 10, 5}\n"
          ]
        }
      ]
    },
    {
      "cell_type": "code",
      "source": [
        "# Write a code to concatenate two tuples. The function should take two tuples as input and return a new tuple containing elements from both input tuples\n",
        "user_input1= input(\"enter integers separated by commas\")\n",
        "user_input2= input(\"enter integers separated by commas\")\n",
        "user_combo1 = user_input1.split(\",\")\n",
        "user_combo2 = user_input2.split(\",\")\n",
        "new_tuple = tuple(user_combo1) + tuple(user_combo2)\n",
        "\n"
      ],
      "metadata": {
        "colab": {
          "base_uri": "https://localhost:8080/"
        },
        "id": "CfBhNvBMC6bL",
        "outputId": "ed25da2f-9ff5-45d4-8d79-4baea35d1062"
      },
      "execution_count": null,
      "outputs": [
        {
          "name": "stdout",
          "output_type": "stream",
          "text": [
            "enter integers separated by commas1,5,10,2\n",
            "enter integers separated by commas1,5,10,2\n"
          ]
        }
      ]
    },
    {
      "cell_type": "code",
      "source": [
        "#Develop a code that prompts the user to input two sets of strings. Then, print the elements that are present in the first set but not in the second set\n",
        "user_input1= input(\"enter words separated by commas\")\n",
        "user_input2= input(\"enter words separated by commas\")\n",
        "user_input1_set = user_input1\n",
        "user_input2_set = user_input2\n",
        "print(set.difference(set(user_input1_set), set(user_input2_set)))\n"
      ],
      "metadata": {
        "colab": {
          "base_uri": "https://localhost:8080/"
        },
        "id": "eAjtgs-Dkfzd",
        "outputId": "a099cfb3-4ece-4e9e-d2ac-a0e8d98afb69"
      },
      "execution_count": null,
      "outputs": [
        {
          "output_type": "stream",
          "name": "stdout",
          "text": [
            "enter words separated by commasa,f,j\n",
            "enter words separated by commasd,k,f\n",
            "{'a', 'j'}\n"
          ]
        }
      ]
    },
    {
      "cell_type": "code",
      "source": [
        "#Create a code that takes a tuple and two integers as input. The function should return a new tuple containing elements from the original tuple within the specified range of indices\n",
        "\n",
        "def specified_range(user_input1_t, ranges):\n",
        "  das = []\n",
        "  for i in user_input1_t:\n",
        "      if len(das) <= ranges:\n",
        "        das.append(i)\n",
        "      else:\n",
        "        break\n",
        "  return tuple(das)\n",
        "\n",
        "\n",
        "\n",
        "user_input1 = input(\"Enter numbers separated by commas to form a tuple: \")\n",
        "enter_range = int(input(\"Enter the range: \"))\n",
        "\n",
        "user_input1s = []\n",
        "for i in user_input1.split(\",\"):\n",
        "    user_input1s.append(int(i))\n",
        "user_input1_t = tuple(user_input1s)\n",
        "if enter_range < len(user_input1) or enter_range > len(user_input1):\n",
        "    specified_range(user_input1_t, enter_range)\n",
        "if 0 <= enter_range <= len(user_input1_t):\n",
        "    new_tuple = specified_range(user_input1_t, enter_range)\n",
        "    print(\"Original tuple:\", user_input1_t)\n",
        "    print(\"New tuple:\", new_tuple)\n",
        "else:\n",
        "   print(\"Invalid indices. Please enter valid start and end indices.\")\n",
        "\n",
        "\n",
        "\n"
      ],
      "metadata": {
        "id": "baW1-TSCudnM",
        "colab": {
          "base_uri": "https://localhost:8080/"
        },
        "outputId": "8cc17338-d6c9-47c2-e906-51303b76d0ef"
      },
      "execution_count": null,
      "outputs": [
        {
          "output_type": "stream",
          "name": "stdout",
          "text": [
            "Enter numbers separated by commas to form a tuple: 10,20,30,40\n",
            "Enter the range: 2\n",
            "Original tuple: (10, 20, 30, 40)\n",
            "New tuple: (10, 20, 30)\n"
          ]
        }
      ]
    },
    {
      "cell_type": "code",
      "source": [
        "#Write a code that prompts the user to input two sets of characters. Then, print the union of these two sets\n",
        "\n",
        "set1_input = input(\"Enter the first set of characters separated by commas: \")\n",
        "set2_input = input(\"Enter the second set of characters separated by commas: \")\n",
        "\n",
        "set1 = set(set1_input.split(','))\n",
        "set2 = set(set2_input.split(','))\n",
        "\n",
        "union_set = set1.union(set2)\n",
        "\n",
        "print(\"Union of the two sets:\", union_set)"
      ],
      "metadata": {
        "id": "lLq780FQaEZp"
      },
      "execution_count": null,
      "outputs": []
    },
    {
      "cell_type": "code",
      "source": [
        "# Develop a code that takes a tuple of integers as input. The function should return the maximum and minimum values from the tuple using tuple unpacking\n",
        "\n",
        "def find_max_min(numbers):\n",
        "    max_val = max(numbers)\n",
        "    min_val = min(numbers)\n",
        "\n",
        "    return max_val, min_val\n",
        "\n",
        "find_max_min((3, 5, 1, 9, 2, 8))"
      ],
      "metadata": {
        "colab": {
          "base_uri": "https://localhost:8080/"
        },
        "id": "g3NGYxQwAqso",
        "outputId": "e1ae084d-4132-4e88-c257-29516a8d0d57"
      },
      "execution_count": 1,
      "outputs": [
        {
          "output_type": "execute_result",
          "data": {
            "text/plain": [
              "(9, 1)"
            ]
          },
          "metadata": {},
          "execution_count": 1
        }
      ]
    },
    {
      "cell_type": "code",
      "source": [
        "#Create a code that defines two sets of integers. Then, print the union, intersection, and difference of these two sets\n",
        "\n",
        "set1 = {1, 2, 3, 4, 5}\n",
        "set2 = {4, 5, 6, 7, 8}\n",
        "\n",
        "union_set = set1.union(set2)\n",
        "print(\"Union:\", union_set)\n",
        "\n",
        "intersection_set = set1.intersection(set2)\n",
        "print(\"Intersection:\", intersection_set)\n",
        "\n",
        "difference_set1 = set1.difference(set2)\n",
        "print(\"Difference (set1 - set2):\", difference_set1)\n",
        "\n",
        "difference_set2 = set2.difference(set1)\n",
        "print(\"Difference (set2 - set1):\", difference_set2)\n"
      ],
      "metadata": {
        "colab": {
          "base_uri": "https://localhost:8080/"
        },
        "id": "zAWWWytTBEwJ",
        "outputId": "c84b5283-0967-4a30-85dd-1d01ce1225b9"
      },
      "execution_count": 2,
      "outputs": [
        {
          "output_type": "stream",
          "name": "stdout",
          "text": [
            "Union: {1, 2, 3, 4, 5, 6, 7, 8}\n",
            "Intersection: {4, 5}\n",
            "Difference (set1 - set2): {1, 2, 3}\n",
            "Difference (set2 - set1): {8, 6, 7}\n"
          ]
        }
      ]
    },
    {
      "cell_type": "code",
      "source": [
        "# Write a code that takes a tuple and an element as input. The function should return the count of occurrences of the given element in the tuple\n",
        "\n",
        "def count_occurrences(tpl, element):\n",
        "    return tpl.count(element)\n",
        "\n",
        "count_occurrences((1, 2, 3, 4, 2, 2, 5, 2, 6), 2)"
      ],
      "metadata": {
        "colab": {
          "base_uri": "https://localhost:8080/"
        },
        "id": "Q6fpYJLTBYj1",
        "outputId": "09a84214-3785-4020-e0c0-979f6216ff68"
      },
      "execution_count": 5,
      "outputs": [
        {
          "output_type": "execute_result",
          "data": {
            "text/plain": [
              "4"
            ]
          },
          "metadata": {},
          "execution_count": 5
        }
      ]
    },
    {
      "cell_type": "code",
      "source": [
        "#Develop a code that prompts the user to input two sets of strings. Then, print the symmetric difference of these two sets\n",
        "\n",
        "set1 = input(\"Enter the first set of words separated by space: \")\n",
        "set2 = input(\"Enter the second set of words separated by space: \")\n",
        "\n",
        "set1 = set(set1.split())\n",
        "set2 = set(set2.split())\n",
        "\n",
        "set1.symmetric_difference(set2)"
      ],
      "metadata": {
        "colab": {
          "base_uri": "https://localhost:8080/"
        },
        "id": "2eZAZAccB24I",
        "outputId": "3d33e607-ad21-4eb0-935f-5de124f0c1a1"
      },
      "execution_count": 8,
      "outputs": [
        {
          "name": "stdout",
          "output_type": "stream",
          "text": [
            "Enter the first set of words separated by space: apple banana orange\n",
            "Enter the second set of words separated by space: orange grapes apple\n"
          ]
        },
        {
          "output_type": "execute_result",
          "data": {
            "text/plain": [
              "{'banana', 'grapes'}"
            ]
          },
          "metadata": {},
          "execution_count": 8
        }
      ]
    },
    {
      "cell_type": "code",
      "source": [
        "#Write a code that takes a list of words as input and returns a dictionary where the keys are unique words and the values are the frequencies of those words in the input list\n",
        "\n",
        "def word_frequencies(word_list):\n",
        "    frequency_dict = {}\n",
        "    for word in word_list:\n",
        "        if word in frequency_dict:\n",
        "            frequency_dict[word] += 1\n",
        "        else:\n",
        "            frequency_dict[word] = 1\n",
        "    return frequency_dict\n",
        "\n",
        "word_frequencies([\"apple\", \"banana\", \"apple\", \"orange\", \"banana\", \"apple\"])"
      ],
      "metadata": {
        "colab": {
          "base_uri": "https://localhost:8080/"
        },
        "id": "cs3892V5Cxh_",
        "outputId": "bcaade46-e35a-44da-92c1-b27e9e8413c6"
      },
      "execution_count": 9,
      "outputs": [
        {
          "output_type": "execute_result",
          "data": {
            "text/plain": [
              "{'apple': 3, 'banana': 2, 'orange': 1}"
            ]
          },
          "metadata": {},
          "execution_count": 9
        }
      ]
    },
    {
      "cell_type": "code",
      "source": [
        "# Write a code that takes two dictionaries as input and merges them into a single dictionary. If there are common keys, the values should be added together\n",
        "def merge_dictionaries(dict1, dict2):\n",
        "  dics = dict1\n",
        "  for key, value in dict2.items():\n",
        "    if key in dics:\n",
        "      dics[key] = value + dics[key]\n",
        "    else:\n",
        "      dics[key] = value\n",
        "  return dics\n",
        "\n",
        "dict1 = {'a': 1, 'b': 2, 'c': 3}\n",
        "dict2 = {'b': 3, 'c': 4, 'd': 5}\n",
        "\n",
        "merge_dictionaries(dict1, dict2)\n"
      ],
      "metadata": {
        "colab": {
          "base_uri": "https://localhost:8080/"
        },
        "id": "HBXAq_wrEcA8",
        "outputId": "435d2876-afcf-4dff-b319-8ebd0dd92d45"
      },
      "execution_count": 15,
      "outputs": [
        {
          "output_type": "execute_result",
          "data": {
            "text/plain": [
              "{'a': 1, 'b': 5, 'c': 7, 'd': 5}"
            ]
          },
          "metadata": {},
          "execution_count": 15
        }
      ]
    },
    {
      "cell_type": "code",
      "source": [
        "#Write a code to access a value in a nested dictionary. The function should take the dictionary and a list of keys as input, and return the corresponding value. If any of the keys do not exist in the dictionary, the function should return None\n",
        "\n",
        "def get_nested_value(d, keys):\n",
        "    for key in keys:\n",
        "        if key in d:\n",
        "            d = d[key]\n",
        "        else:\n",
        "            return None\n",
        "    return d\n",
        "\n",
        "\n",
        "nested_dict = {'a': {'b': {'c': 42}},\n",
        "               'x': {'y': {'z': 99}}}\n",
        "keys1 = ['a', 'b', 'c']\n",
        "keys2 = ['x', 'y', 'z']\n",
        "\n",
        "print(get_nested_value(nested_dict, keys1) )\n",
        "print(get_nested_value(nested_dict, keys2) )\n",
        "\n"
      ],
      "metadata": {
        "colab": {
          "base_uri": "https://localhost:8080/"
        },
        "id": "W3KCzKFKGJfU",
        "outputId": "d67fa203-8960-4128-bfe1-55860a79e8c2"
      },
      "execution_count": 17,
      "outputs": [
        {
          "output_type": "stream",
          "name": "stdout",
          "text": [
            "42\n",
            "99\n"
          ]
        }
      ]
    },
    {
      "cell_type": "code",
      "source": [
        "#Write a code that takes a dictionary as input and returns a sorted version of it based on the values. You can choose whether to sort in ascending or descending order\n",
        "\n",
        "def sort_dict_by_values(d):\n",
        "    ds = []\n",
        "    sorted_items = {}\n",
        "    for key, value in d.items():\n",
        "        ds.append(value)\n",
        "    ds.sort()\n",
        "    for value in ds:\n",
        "        for key, val in d.items():\n",
        "            if val == value:\n",
        "                sorted_items[key] = value\n",
        "                break\n",
        "    return sorted_items\n",
        "\n",
        "sort_dict_by_values({'apple': 3, 'banana': 1, 'cherry': 2, 'date': 4})\n"
      ],
      "metadata": {
        "colab": {
          "base_uri": "https://localhost:8080/"
        },
        "id": "1DBnog5iJJnY",
        "outputId": "76a5f7e4-b65d-47e6-db2a-2d030a1eb33d"
      },
      "execution_count": 25,
      "outputs": [
        {
          "output_type": "execute_result",
          "data": {
            "text/plain": [
              "{'banana': 1, 'cherry': 2, 'apple': 3, 'date': 4}"
            ]
          },
          "metadata": {},
          "execution_count": 25
        }
      ]
    },
    {
      "cell_type": "code",
      "source": [
        "#Write a code that inverts a dictionary, swapping keys and values. Ensure that the inverted dictionary correctly handles cases where multiple keys have the same value by storing the keys as a list in the inverted dictionary\n",
        "\n",
        "def invert_dictionary(d):\n",
        "    inverted_dict = {}\n",
        "    for key, value in d.items():\n",
        "        if value in inverted_dict:\n",
        "            inverted_dict[value].append(key)\n",
        "        else:\n",
        "            inverted_dict[value] = [key]\n",
        "    return inverted_dict\n",
        "\n",
        "invert_dictionary({'a': 1, 'b': 2, 'c': 1, 'd': 3})\n"
      ],
      "metadata": {
        "colab": {
          "base_uri": "https://localhost:8080/"
        },
        "id": "zXDaUQZ3LQwv",
        "outputId": "0e10ea8b-b8cb-4c83-be03-b24c461f3f74"
      },
      "execution_count": 23,
      "outputs": [
        {
          "output_type": "execute_result",
          "data": {
            "text/plain": [
              "{1: ['a', 'c'], 2: ['b'], 3: ['d']}"
            ]
          },
          "metadata": {},
          "execution_count": 23
        }
      ]
    },
    {
      "cell_type": "code",
      "source": [],
      "metadata": {
        "id": "m6AbMN-KMGru"
      },
      "execution_count": null,
      "outputs": []
    }
  ]
}